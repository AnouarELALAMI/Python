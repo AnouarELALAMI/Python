{
  "nbformat": 4,
  "nbformat_minor": 0,
  "metadata": {
    "colab": {
      "provenance": [],
      "authorship_tag": "ABX9TyMSPoP9UJZRgMFhXI4tg/PR",
      "include_colab_link": true
    },
    "kernelspec": {
      "name": "python3",
      "display_name": "Python 3"
    },
    "language_info": {
      "name": "python"
    }
  },
  "cells": [
    {
      "cell_type": "markdown",
      "metadata": {
        "id": "view-in-github",
        "colab_type": "text"
      },
      "source": [
        "<a href=\"https://colab.research.google.com/github/AnouarELALAMI/Python/blob/main/Untitled0.ipynb\" target=\"_parent\"><img src=\"https://colab.research.google.com/assets/colab-badge.svg\" alt=\"Open In Colab\"/></a>"
      ]
    },
    {
      "cell_type": "code",
      "execution_count": 163,
      "metadata": {
        "id": "Sx3jycwaH9AP"
      },
      "outputs": [],
      "source": [
        "import tensorflow as tf"
      ]
    },
    {
      "cell_type": "code",
      "source": [
        "import pandas as pd"
      ],
      "metadata": {
        "id": "myUoGSPvISXB"
      },
      "execution_count": 164,
      "outputs": []
    },
    {
      "cell_type": "code",
      "source": [
        "import seaborn as sns"
      ],
      "metadata": {
        "id": "LtmRxJ6MIVRi"
      },
      "execution_count": 165,
      "outputs": []
    },
    {
      "cell_type": "code",
      "source": [
        "import matplotlib.pyplot as plt"
      ],
      "metadata": {
        "id": "yOvRpbIhIkS6"
      },
      "execution_count": 166,
      "outputs": []
    },
    {
      "cell_type": "code",
      "source": [
        "import numpy as np"
      ],
      "metadata": {
        "id": "q6Xg0uoXIquT"
      },
      "execution_count": 167,
      "outputs": []
    },
    {
      "cell_type": "code",
      "source": [
        "%matplotlib inline"
      ],
      "metadata": {
        "id": "z4JaWuBlIyaB"
      },
      "execution_count": 168,
      "outputs": []
    },
    {
      "cell_type": "code",
      "source": [
        "from google.colab import files\n",
        "uploaded = files.upload()"
      ],
      "metadata": {
        "colab": {
          "base_uri": "https://localhost:8080/",
          "height": 73
        },
        "id": "ah2_DdraI_vh",
        "outputId": "7e3a226a-6c5c-419a-c36f-9e9bb76ff4b7"
      },
      "execution_count": 169,
      "outputs": [
        {
          "output_type": "display_data",
          "data": {
            "text/plain": [
              "<IPython.core.display.HTML object>"
            ],
            "text/html": [
              "\n",
              "     <input type=\"file\" id=\"files-1fc4077a-5c53-4b86-944d-fc5e906e2ee8\" name=\"files[]\" multiple disabled\n",
              "        style=\"border:none\" />\n",
              "     <output id=\"result-1fc4077a-5c53-4b86-944d-fc5e906e2ee8\">\n",
              "      Upload widget is only available when the cell has been executed in the\n",
              "      current browser session. Please rerun this cell to enable.\n",
              "      </output>\n",
              "      <script>// Copyright 2017 Google LLC\n",
              "//\n",
              "// Licensed under the Apache License, Version 2.0 (the \"License\");\n",
              "// you may not use this file except in compliance with the License.\n",
              "// You may obtain a copy of the License at\n",
              "//\n",
              "//      http://www.apache.org/licenses/LICENSE-2.0\n",
              "//\n",
              "// Unless required by applicable law or agreed to in writing, software\n",
              "// distributed under the License is distributed on an \"AS IS\" BASIS,\n",
              "// WITHOUT WARRANTIES OR CONDITIONS OF ANY KIND, either express or implied.\n",
              "// See the License for the specific language governing permissions and\n",
              "// limitations under the License.\n",
              "\n",
              "/**\n",
              " * @fileoverview Helpers for google.colab Python module.\n",
              " */\n",
              "(function(scope) {\n",
              "function span(text, styleAttributes = {}) {\n",
              "  const element = document.createElement('span');\n",
              "  element.textContent = text;\n",
              "  for (const key of Object.keys(styleAttributes)) {\n",
              "    element.style[key] = styleAttributes[key];\n",
              "  }\n",
              "  return element;\n",
              "}\n",
              "\n",
              "// Max number of bytes which will be uploaded at a time.\n",
              "const MAX_PAYLOAD_SIZE = 100 * 1024;\n",
              "\n",
              "function _uploadFiles(inputId, outputId) {\n",
              "  const steps = uploadFilesStep(inputId, outputId);\n",
              "  const outputElement = document.getElementById(outputId);\n",
              "  // Cache steps on the outputElement to make it available for the next call\n",
              "  // to uploadFilesContinue from Python.\n",
              "  outputElement.steps = steps;\n",
              "\n",
              "  return _uploadFilesContinue(outputId);\n",
              "}\n",
              "\n",
              "// This is roughly an async generator (not supported in the browser yet),\n",
              "// where there are multiple asynchronous steps and the Python side is going\n",
              "// to poll for completion of each step.\n",
              "// This uses a Promise to block the python side on completion of each step,\n",
              "// then passes the result of the previous step as the input to the next step.\n",
              "function _uploadFilesContinue(outputId) {\n",
              "  const outputElement = document.getElementById(outputId);\n",
              "  const steps = outputElement.steps;\n",
              "\n",
              "  const next = steps.next(outputElement.lastPromiseValue);\n",
              "  return Promise.resolve(next.value.promise).then((value) => {\n",
              "    // Cache the last promise value to make it available to the next\n",
              "    // step of the generator.\n",
              "    outputElement.lastPromiseValue = value;\n",
              "    return next.value.response;\n",
              "  });\n",
              "}\n",
              "\n",
              "/**\n",
              " * Generator function which is called between each async step of the upload\n",
              " * process.\n",
              " * @param {string} inputId Element ID of the input file picker element.\n",
              " * @param {string} outputId Element ID of the output display.\n",
              " * @return {!Iterable<!Object>} Iterable of next steps.\n",
              " */\n",
              "function* uploadFilesStep(inputId, outputId) {\n",
              "  const inputElement = document.getElementById(inputId);\n",
              "  inputElement.disabled = false;\n",
              "\n",
              "  const outputElement = document.getElementById(outputId);\n",
              "  outputElement.innerHTML = '';\n",
              "\n",
              "  const pickedPromise = new Promise((resolve) => {\n",
              "    inputElement.addEventListener('change', (e) => {\n",
              "      resolve(e.target.files);\n",
              "    });\n",
              "  });\n",
              "\n",
              "  const cancel = document.createElement('button');\n",
              "  inputElement.parentElement.appendChild(cancel);\n",
              "  cancel.textContent = 'Cancel upload';\n",
              "  const cancelPromise = new Promise((resolve) => {\n",
              "    cancel.onclick = () => {\n",
              "      resolve(null);\n",
              "    };\n",
              "  });\n",
              "\n",
              "  // Wait for the user to pick the files.\n",
              "  const files = yield {\n",
              "    promise: Promise.race([pickedPromise, cancelPromise]),\n",
              "    response: {\n",
              "      action: 'starting',\n",
              "    }\n",
              "  };\n",
              "\n",
              "  cancel.remove();\n",
              "\n",
              "  // Disable the input element since further picks are not allowed.\n",
              "  inputElement.disabled = true;\n",
              "\n",
              "  if (!files) {\n",
              "    return {\n",
              "      response: {\n",
              "        action: 'complete',\n",
              "      }\n",
              "    };\n",
              "  }\n",
              "\n",
              "  for (const file of files) {\n",
              "    const li = document.createElement('li');\n",
              "    li.append(span(file.name, {fontWeight: 'bold'}));\n",
              "    li.append(span(\n",
              "        `(${file.type || 'n/a'}) - ${file.size} bytes, ` +\n",
              "        `last modified: ${\n",
              "            file.lastModifiedDate ? file.lastModifiedDate.toLocaleDateString() :\n",
              "                                    'n/a'} - `));\n",
              "    const percent = span('0% done');\n",
              "    li.appendChild(percent);\n",
              "\n",
              "    outputElement.appendChild(li);\n",
              "\n",
              "    const fileDataPromise = new Promise((resolve) => {\n",
              "      const reader = new FileReader();\n",
              "      reader.onload = (e) => {\n",
              "        resolve(e.target.result);\n",
              "      };\n",
              "      reader.readAsArrayBuffer(file);\n",
              "    });\n",
              "    // Wait for the data to be ready.\n",
              "    let fileData = yield {\n",
              "      promise: fileDataPromise,\n",
              "      response: {\n",
              "        action: 'continue',\n",
              "      }\n",
              "    };\n",
              "\n",
              "    // Use a chunked sending to avoid message size limits. See b/62115660.\n",
              "    let position = 0;\n",
              "    do {\n",
              "      const length = Math.min(fileData.byteLength - position, MAX_PAYLOAD_SIZE);\n",
              "      const chunk = new Uint8Array(fileData, position, length);\n",
              "      position += length;\n",
              "\n",
              "      const base64 = btoa(String.fromCharCode.apply(null, chunk));\n",
              "      yield {\n",
              "        response: {\n",
              "          action: 'append',\n",
              "          file: file.name,\n",
              "          data: base64,\n",
              "        },\n",
              "      };\n",
              "\n",
              "      let percentDone = fileData.byteLength === 0 ?\n",
              "          100 :\n",
              "          Math.round((position / fileData.byteLength) * 100);\n",
              "      percent.textContent = `${percentDone}% done`;\n",
              "\n",
              "    } while (position < fileData.byteLength);\n",
              "  }\n",
              "\n",
              "  // All done.\n",
              "  yield {\n",
              "    response: {\n",
              "      action: 'complete',\n",
              "    }\n",
              "  };\n",
              "}\n",
              "\n",
              "scope.google = scope.google || {};\n",
              "scope.google.colab = scope.google.colab || {};\n",
              "scope.google.colab._files = {\n",
              "  _uploadFiles,\n",
              "  _uploadFilesContinue,\n",
              "};\n",
              "})(self);\n",
              "</script> "
            ]
          },
          "metadata": {}
        },
        {
          "output_type": "stream",
          "name": "stdout",
          "text": [
            "Saving fake_reg.csv to fake_reg (3).csv\n"
          ]
        }
      ]
    },
    {
      "cell_type": "code",
      "source": [
        "import io\n",
        "df = pd.read_csv(io.BytesIO(uploaded[\"fake_reg.csv\"]))"
      ],
      "metadata": {
        "id": "l5xfdpp0Jhbh"
      },
      "execution_count": 170,
      "outputs": []
    },
    {
      "cell_type": "code",
      "source": [
        "df"
      ],
      "metadata": {
        "colab": {
          "base_uri": "https://localhost:8080/",
          "height": 424
        },
        "id": "OyJuDYKYUTn-",
        "outputId": "9a49b9f7-b8fa-4d59-c12d-d341a30768b7"
      },
      "execution_count": 171,
      "outputs": [
        {
          "output_type": "execute_result",
          "data": {
            "text/plain": [
              "          price     feature1     feature2\n",
              "0    461.527929   999.787558   999.766096\n",
              "1    548.130011   998.861615  1001.042403\n",
              "2    410.297162  1000.070267   998.844015\n",
              "3    540.382220   999.952251  1000.440940\n",
              "4    546.024553  1000.446011  1000.338531\n",
              "..          ...          ...          ...\n",
              "995  476.526078  1000.018988   999.672732\n",
              "996  457.313186   998.855379  1000.020026\n",
              "997  456.720992  1001.451646   998.847606\n",
              "998  403.315576  1000.771023   998.562851\n",
              "999  599.367093   999.232244  1001.451407\n",
              "\n",
              "[1000 rows x 3 columns]"
            ],
            "text/html": [
              "\n",
              "  <div id=\"df-18c14476-c604-4921-b9b0-6dabab57036c\">\n",
              "    <div class=\"colab-df-container\">\n",
              "      <div>\n",
              "<style scoped>\n",
              "    .dataframe tbody tr th:only-of-type {\n",
              "        vertical-align: middle;\n",
              "    }\n",
              "\n",
              "    .dataframe tbody tr th {\n",
              "        vertical-align: top;\n",
              "    }\n",
              "\n",
              "    .dataframe thead th {\n",
              "        text-align: right;\n",
              "    }\n",
              "</style>\n",
              "<table border=\"1\" class=\"dataframe\">\n",
              "  <thead>\n",
              "    <tr style=\"text-align: right;\">\n",
              "      <th></th>\n",
              "      <th>price</th>\n",
              "      <th>feature1</th>\n",
              "      <th>feature2</th>\n",
              "    </tr>\n",
              "  </thead>\n",
              "  <tbody>\n",
              "    <tr>\n",
              "      <th>0</th>\n",
              "      <td>461.527929</td>\n",
              "      <td>999.787558</td>\n",
              "      <td>999.766096</td>\n",
              "    </tr>\n",
              "    <tr>\n",
              "      <th>1</th>\n",
              "      <td>548.130011</td>\n",
              "      <td>998.861615</td>\n",
              "      <td>1001.042403</td>\n",
              "    </tr>\n",
              "    <tr>\n",
              "      <th>2</th>\n",
              "      <td>410.297162</td>\n",
              "      <td>1000.070267</td>\n",
              "      <td>998.844015</td>\n",
              "    </tr>\n",
              "    <tr>\n",
              "      <th>3</th>\n",
              "      <td>540.382220</td>\n",
              "      <td>999.952251</td>\n",
              "      <td>1000.440940</td>\n",
              "    </tr>\n",
              "    <tr>\n",
              "      <th>4</th>\n",
              "      <td>546.024553</td>\n",
              "      <td>1000.446011</td>\n",
              "      <td>1000.338531</td>\n",
              "    </tr>\n",
              "    <tr>\n",
              "      <th>...</th>\n",
              "      <td>...</td>\n",
              "      <td>...</td>\n",
              "      <td>...</td>\n",
              "    </tr>\n",
              "    <tr>\n",
              "      <th>995</th>\n",
              "      <td>476.526078</td>\n",
              "      <td>1000.018988</td>\n",
              "      <td>999.672732</td>\n",
              "    </tr>\n",
              "    <tr>\n",
              "      <th>996</th>\n",
              "      <td>457.313186</td>\n",
              "      <td>998.855379</td>\n",
              "      <td>1000.020026</td>\n",
              "    </tr>\n",
              "    <tr>\n",
              "      <th>997</th>\n",
              "      <td>456.720992</td>\n",
              "      <td>1001.451646</td>\n",
              "      <td>998.847606</td>\n",
              "    </tr>\n",
              "    <tr>\n",
              "      <th>998</th>\n",
              "      <td>403.315576</td>\n",
              "      <td>1000.771023</td>\n",
              "      <td>998.562851</td>\n",
              "    </tr>\n",
              "    <tr>\n",
              "      <th>999</th>\n",
              "      <td>599.367093</td>\n",
              "      <td>999.232244</td>\n",
              "      <td>1001.451407</td>\n",
              "    </tr>\n",
              "  </tbody>\n",
              "</table>\n",
              "<p>1000 rows × 3 columns</p>\n",
              "</div>\n",
              "      <button class=\"colab-df-convert\" onclick=\"convertToInteractive('df-18c14476-c604-4921-b9b0-6dabab57036c')\"\n",
              "              title=\"Convert this dataframe to an interactive table.\"\n",
              "              style=\"display:none;\">\n",
              "        \n",
              "  <svg xmlns=\"http://www.w3.org/2000/svg\" height=\"24px\"viewBox=\"0 0 24 24\"\n",
              "       width=\"24px\">\n",
              "    <path d=\"M0 0h24v24H0V0z\" fill=\"none\"/>\n",
              "    <path d=\"M18.56 5.44l.94 2.06.94-2.06 2.06-.94-2.06-.94-.94-2.06-.94 2.06-2.06.94zm-11 1L8.5 8.5l.94-2.06 2.06-.94-2.06-.94L8.5 2.5l-.94 2.06-2.06.94zm10 10l.94 2.06.94-2.06 2.06-.94-2.06-.94-.94-2.06-.94 2.06-2.06.94z\"/><path d=\"M17.41 7.96l-1.37-1.37c-.4-.4-.92-.59-1.43-.59-.52 0-1.04.2-1.43.59L10.3 9.45l-7.72 7.72c-.78.78-.78 2.05 0 2.83L4 21.41c.39.39.9.59 1.41.59.51 0 1.02-.2 1.41-.59l7.78-7.78 2.81-2.81c.8-.78.8-2.07 0-2.86zM5.41 20L4 18.59l7.72-7.72 1.47 1.35L5.41 20z\"/>\n",
              "  </svg>\n",
              "      </button>\n",
              "      \n",
              "  <style>\n",
              "    .colab-df-container {\n",
              "      display:flex;\n",
              "      flex-wrap:wrap;\n",
              "      gap: 12px;\n",
              "    }\n",
              "\n",
              "    .colab-df-convert {\n",
              "      background-color: #E8F0FE;\n",
              "      border: none;\n",
              "      border-radius: 50%;\n",
              "      cursor: pointer;\n",
              "      display: none;\n",
              "      fill: #1967D2;\n",
              "      height: 32px;\n",
              "      padding: 0 0 0 0;\n",
              "      width: 32px;\n",
              "    }\n",
              "\n",
              "    .colab-df-convert:hover {\n",
              "      background-color: #E2EBFA;\n",
              "      box-shadow: 0px 1px 2px rgba(60, 64, 67, 0.3), 0px 1px 3px 1px rgba(60, 64, 67, 0.15);\n",
              "      fill: #174EA6;\n",
              "    }\n",
              "\n",
              "    [theme=dark] .colab-df-convert {\n",
              "      background-color: #3B4455;\n",
              "      fill: #D2E3FC;\n",
              "    }\n",
              "\n",
              "    [theme=dark] .colab-df-convert:hover {\n",
              "      background-color: #434B5C;\n",
              "      box-shadow: 0px 1px 3px 1px rgba(0, 0, 0, 0.15);\n",
              "      filter: drop-shadow(0px 1px 2px rgba(0, 0, 0, 0.3));\n",
              "      fill: #FFFFFF;\n",
              "    }\n",
              "  </style>\n",
              "\n",
              "      <script>\n",
              "        const buttonEl =\n",
              "          document.querySelector('#df-18c14476-c604-4921-b9b0-6dabab57036c button.colab-df-convert');\n",
              "        buttonEl.style.display =\n",
              "          google.colab.kernel.accessAllowed ? 'block' : 'none';\n",
              "\n",
              "        async function convertToInteractive(key) {\n",
              "          const element = document.querySelector('#df-18c14476-c604-4921-b9b0-6dabab57036c');\n",
              "          const dataTable =\n",
              "            await google.colab.kernel.invokeFunction('convertToInteractive',\n",
              "                                                     [key], {});\n",
              "          if (!dataTable) return;\n",
              "\n",
              "          const docLinkHtml = 'Like what you see? Visit the ' +\n",
              "            '<a target=\"_blank\" href=https://colab.research.google.com/notebooks/data_table.ipynb>data table notebook</a>'\n",
              "            + ' to learn more about interactive tables.';\n",
              "          element.innerHTML = '';\n",
              "          dataTable['output_type'] = 'display_data';\n",
              "          await google.colab.output.renderOutput(dataTable, element);\n",
              "          const docLink = document.createElement('div');\n",
              "          docLink.innerHTML = docLinkHtml;\n",
              "          element.appendChild(docLink);\n",
              "        }\n",
              "      </script>\n",
              "    </div>\n",
              "  </div>\n",
              "  "
            ]
          },
          "metadata": {},
          "execution_count": 171
        }
      ]
    },
    {
      "cell_type": "code",
      "source": [
        "df.head()"
      ],
      "metadata": {
        "colab": {
          "base_uri": "https://localhost:8080/",
          "height": 206
        },
        "id": "sX9n1sgsUxT9",
        "outputId": "145b517d-1ab6-43e6-cc33-f7c911d9b294"
      },
      "execution_count": 172,
      "outputs": [
        {
          "output_type": "execute_result",
          "data": {
            "text/plain": [
              "        price     feature1     feature2\n",
              "0  461.527929   999.787558   999.766096\n",
              "1  548.130011   998.861615  1001.042403\n",
              "2  410.297162  1000.070267   998.844015\n",
              "3  540.382220   999.952251  1000.440940\n",
              "4  546.024553  1000.446011  1000.338531"
            ],
            "text/html": [
              "\n",
              "  <div id=\"df-a1dfb129-a487-4606-af7e-c5fc020b68b9\">\n",
              "    <div class=\"colab-df-container\">\n",
              "      <div>\n",
              "<style scoped>\n",
              "    .dataframe tbody tr th:only-of-type {\n",
              "        vertical-align: middle;\n",
              "    }\n",
              "\n",
              "    .dataframe tbody tr th {\n",
              "        vertical-align: top;\n",
              "    }\n",
              "\n",
              "    .dataframe thead th {\n",
              "        text-align: right;\n",
              "    }\n",
              "</style>\n",
              "<table border=\"1\" class=\"dataframe\">\n",
              "  <thead>\n",
              "    <tr style=\"text-align: right;\">\n",
              "      <th></th>\n",
              "      <th>price</th>\n",
              "      <th>feature1</th>\n",
              "      <th>feature2</th>\n",
              "    </tr>\n",
              "  </thead>\n",
              "  <tbody>\n",
              "    <tr>\n",
              "      <th>0</th>\n",
              "      <td>461.527929</td>\n",
              "      <td>999.787558</td>\n",
              "      <td>999.766096</td>\n",
              "    </tr>\n",
              "    <tr>\n",
              "      <th>1</th>\n",
              "      <td>548.130011</td>\n",
              "      <td>998.861615</td>\n",
              "      <td>1001.042403</td>\n",
              "    </tr>\n",
              "    <tr>\n",
              "      <th>2</th>\n",
              "      <td>410.297162</td>\n",
              "      <td>1000.070267</td>\n",
              "      <td>998.844015</td>\n",
              "    </tr>\n",
              "    <tr>\n",
              "      <th>3</th>\n",
              "      <td>540.382220</td>\n",
              "      <td>999.952251</td>\n",
              "      <td>1000.440940</td>\n",
              "    </tr>\n",
              "    <tr>\n",
              "      <th>4</th>\n",
              "      <td>546.024553</td>\n",
              "      <td>1000.446011</td>\n",
              "      <td>1000.338531</td>\n",
              "    </tr>\n",
              "  </tbody>\n",
              "</table>\n",
              "</div>\n",
              "      <button class=\"colab-df-convert\" onclick=\"convertToInteractive('df-a1dfb129-a487-4606-af7e-c5fc020b68b9')\"\n",
              "              title=\"Convert this dataframe to an interactive table.\"\n",
              "              style=\"display:none;\">\n",
              "        \n",
              "  <svg xmlns=\"http://www.w3.org/2000/svg\" height=\"24px\"viewBox=\"0 0 24 24\"\n",
              "       width=\"24px\">\n",
              "    <path d=\"M0 0h24v24H0V0z\" fill=\"none\"/>\n",
              "    <path d=\"M18.56 5.44l.94 2.06.94-2.06 2.06-.94-2.06-.94-.94-2.06-.94 2.06-2.06.94zm-11 1L8.5 8.5l.94-2.06 2.06-.94-2.06-.94L8.5 2.5l-.94 2.06-2.06.94zm10 10l.94 2.06.94-2.06 2.06-.94-2.06-.94-.94-2.06-.94 2.06-2.06.94z\"/><path d=\"M17.41 7.96l-1.37-1.37c-.4-.4-.92-.59-1.43-.59-.52 0-1.04.2-1.43.59L10.3 9.45l-7.72 7.72c-.78.78-.78 2.05 0 2.83L4 21.41c.39.39.9.59 1.41.59.51 0 1.02-.2 1.41-.59l7.78-7.78 2.81-2.81c.8-.78.8-2.07 0-2.86zM5.41 20L4 18.59l7.72-7.72 1.47 1.35L5.41 20z\"/>\n",
              "  </svg>\n",
              "      </button>\n",
              "      \n",
              "  <style>\n",
              "    .colab-df-container {\n",
              "      display:flex;\n",
              "      flex-wrap:wrap;\n",
              "      gap: 12px;\n",
              "    }\n",
              "\n",
              "    .colab-df-convert {\n",
              "      background-color: #E8F0FE;\n",
              "      border: none;\n",
              "      border-radius: 50%;\n",
              "      cursor: pointer;\n",
              "      display: none;\n",
              "      fill: #1967D2;\n",
              "      height: 32px;\n",
              "      padding: 0 0 0 0;\n",
              "      width: 32px;\n",
              "    }\n",
              "\n",
              "    .colab-df-convert:hover {\n",
              "      background-color: #E2EBFA;\n",
              "      box-shadow: 0px 1px 2px rgba(60, 64, 67, 0.3), 0px 1px 3px 1px rgba(60, 64, 67, 0.15);\n",
              "      fill: #174EA6;\n",
              "    }\n",
              "\n",
              "    [theme=dark] .colab-df-convert {\n",
              "      background-color: #3B4455;\n",
              "      fill: #D2E3FC;\n",
              "    }\n",
              "\n",
              "    [theme=dark] .colab-df-convert:hover {\n",
              "      background-color: #434B5C;\n",
              "      box-shadow: 0px 1px 3px 1px rgba(0, 0, 0, 0.15);\n",
              "      filter: drop-shadow(0px 1px 2px rgba(0, 0, 0, 0.3));\n",
              "      fill: #FFFFFF;\n",
              "    }\n",
              "  </style>\n",
              "\n",
              "      <script>\n",
              "        const buttonEl =\n",
              "          document.querySelector('#df-a1dfb129-a487-4606-af7e-c5fc020b68b9 button.colab-df-convert');\n",
              "        buttonEl.style.display =\n",
              "          google.colab.kernel.accessAllowed ? 'block' : 'none';\n",
              "\n",
              "        async function convertToInteractive(key) {\n",
              "          const element = document.querySelector('#df-a1dfb129-a487-4606-af7e-c5fc020b68b9');\n",
              "          const dataTable =\n",
              "            await google.colab.kernel.invokeFunction('convertToInteractive',\n",
              "                                                     [key], {});\n",
              "          if (!dataTable) return;\n",
              "\n",
              "          const docLinkHtml = 'Like what you see? Visit the ' +\n",
              "            '<a target=\"_blank\" href=https://colab.research.google.com/notebooks/data_table.ipynb>data table notebook</a>'\n",
              "            + ' to learn more about interactive tables.';\n",
              "          element.innerHTML = '';\n",
              "          dataTable['output_type'] = 'display_data';\n",
              "          await google.colab.output.renderOutput(dataTable, element);\n",
              "          const docLink = document.createElement('div');\n",
              "          docLink.innerHTML = docLinkHtml;\n",
              "          element.appendChild(docLink);\n",
              "        }\n",
              "      </script>\n",
              "    </div>\n",
              "  </div>\n",
              "  "
            ]
          },
          "metadata": {},
          "execution_count": 172
        }
      ]
    },
    {
      "cell_type": "code",
      "source": [
        "sns.pairplot(df)"
      ],
      "metadata": {
        "colab": {
          "base_uri": "https://localhost:8080/",
          "height": 680
        },
        "id": "HnyWd1o2Ui_6",
        "outputId": "e8ea978d-6011-43eb-dbf7-3d387cdd342d"
      },
      "execution_count": 173,
      "outputs": [
        {
          "output_type": "execute_result",
          "data": {
            "text/plain": [
              "<seaborn.axisgrid.PairGrid at 0x7f02bbdfe290>"
            ]
          },
          "metadata": {},
          "execution_count": 173
        },
        {
          "output_type": "display_data",
          "data": {
            "text/plain": [
              "<Figure size 750x750 with 12 Axes>"
            ],
            "image/png": "[encoded data removed]"
          },
          "metadata": {}
        }
      ]
    },
    {
      "cell_type": "code",
      "source": [
        "df.info()"
      ],
      "metadata": {
        "colab": {
          "base_uri": "https://localhost:8080/"
        },
        "id": "bHDjR_Q4jdhm",
        "outputId": "08824f7e-8403-48b2-ac7d-2fe482213278"
      },
      "execution_count": 174,
      "outputs": [
        {
          "output_type": "stream",
          "name": "stdout",
          "text": [
            "<class 'pandas.core.frame.DataFrame'>\n",
            "RangeIndex: 1000 entries, 0 to 999\n",
            "Data columns (total 3 columns):\n",
            " #   Column    Non-Null Count  Dtype  \n",
            "---  ------    --------------  -----  \n",
            " 0   price     1000 non-null   float64\n",
            " 1   feature1  1000 non-null   float64\n",
            " 2   feature2  1000 non-null   float64\n",
            "dtypes: float64(3)\n",
            "memory usage: 23.6 KB\n"
          ]
        }
      ]
    },
    {
      "cell_type": "markdown",
      "source": [
        "Test/Train Split"
      ],
      "metadata": {
        "id": "viQUfTd-YsKP"
      }
    },
    {
      "cell_type": "code",
      "source": [
        "from sklearn.model_selection import train_test_split"
      ],
      "metadata": {
        "id": "DD5LAcsIVmWa"
      },
      "execution_count": 175,
      "outputs": []
    },
    {
      "cell_type": "code",
      "source": [
        "# convert to NumPy\n",
        "X =  df[[\"feature1\", \"feature2\"]].values\n",
        "y=df[\"price\"].values"
      ],
      "metadata": {
        "id": "cmaMUxp8ZEwT"
      },
      "execution_count": 176,
      "outputs": []
    },
    {
      "cell_type": "code",
      "source": [
        "X"
      ],
      "metadata": {
        "colab": {
          "base_uri": "https://localhost:8080/"
        },
        "id": "7mu2skB0juXY",
        "outputId": "28498f52-3fd3-42c0-9c10-fad6729c508e"
      },
      "execution_count": 177,
      "outputs": [
        {
          "output_type": "execute_result",
          "data": {
            "text/plain": [
              "array([[ 999.78755752,  999.7660962 ],\n",
              "       [ 998.86161491, 1001.04240315],\n",
              "       [1000.07026691,  998.84401463],\n",
              "       ...,\n",
              "       [1001.45164617,  998.84760554],\n",
              "       [1000.77102275,  998.56285086],\n",
              "       [ 999.2322436 , 1001.45140713]])"
            ]
          },
          "metadata": {},
          "execution_count": 177
        }
      ]
    },
    {
      "cell_type": "code",
      "source": [
        "X_train, X_test, y_train, y_test = train_test_split(X, y, test_size=0.3, random_state=42)"
      ],
      "metadata": {
        "id": "-lA00kPaj0OT"
      },
      "execution_count": 178,
      "outputs": []
    },
    {
      "cell_type": "code",
      "source": [
        "X_train.shape"
      ],
      "metadata": {
        "colab": {
          "base_uri": "https://localhost:8080/"
        },
        "id": "q7qlM6wVkQQz",
        "outputId": "6c7d2f19-89ce-4e13-fb8e-497757984d55"
      },
      "execution_count": 179,
      "outputs": [
        {
          "output_type": "execute_result",
          "data": {
            "text/plain": [
              "(700, 2)"
            ]
          },
          "metadata": {},
          "execution_count": 179
        }
      ]
    },
    {
      "cell_type": "code",
      "source": [
        "X_test.shape"
      ],
      "metadata": {
        "colab": {
          "base_uri": "https://localhost:8080/"
        },
        "id": "Ez4C3YZ_kZgM",
        "outputId": "f89e1d1b-2484-4212-afe5-ae163c2e111b"
      },
      "execution_count": 180,
      "outputs": [
        {
          "output_type": "execute_result",
          "data": {
            "text/plain": [
              "(300, 2)"
            ]
          },
          "metadata": {},
          "execution_count": 180
        }
      ]
    },
    {
      "cell_type": "code",
      "source": [
        "y_train.shape"
      ],
      "metadata": {
        "colab": {
          "base_uri": "https://localhost:8080/"
        },
        "id": "2ZUi8ozzkhIq",
        "outputId": "ea254cf7-adc9-47c7-c1cc-22a445776a97"
      },
      "execution_count": 181,
      "outputs": [
        {
          "output_type": "execute_result",
          "data": {
            "text/plain": [
              "(700,)"
            ]
          },
          "metadata": {},
          "execution_count": 181
        }
      ]
    },
    {
      "cell_type": "code",
      "source": [
        "y_test.shape"
      ],
      "metadata": {
        "colab": {
          "base_uri": "https://localhost:8080/"
        },
        "id": "F_mVRvH8kvH7",
        "outputId": "c45b198e-9c79-4d51-966d-8dc65bd7122b"
      },
      "execution_count": 182,
      "outputs": [
        {
          "output_type": "execute_result",
          "data": {
            "text/plain": [
              "(300,)"
            ]
          },
          "metadata": {},
          "execution_count": 182
        }
      ]
    },
    {
      "cell_type": "markdown",
      "source": [
        "**Normalizing/Scaling the Data**"
      ],
      "metadata": {
        "id": "A1ollOrUk39j"
      }
    },
    {
      "cell_type": "code",
      "source": [
        "from sklearn.preprocessing import MinMaxScaler\n",
        "scaler= MinMaxScaler()\n"
      ],
      "metadata": {
        "id": "gDAjigkAk1RE"
      },
      "execution_count": 183,
      "outputs": []
    },
    {
      "cell_type": "markdown",
      "source": [
        "### we only fit the trainnig Data"
      ],
      "metadata": {
        "id": "r1wqdVHAnamf"
      }
    },
    {
      "cell_type": "code",
      "source": [
        "scaler.fit(X_train)"
      ],
      "metadata": {
        "colab": {
          "base_uri": "https://localhost:8080/",
          "height": 75
        },
        "id": "hbdaOl3FnYsw",
        "outputId": "c526ec34-a55f-4ff9-bf30-0ca024c047c5"
      },
      "execution_count": 184,
      "outputs": [
        {
          "output_type": "execute_result",
          "data": {
            "text/plain": [
              "MinMaxScaler()"
            ],
            "text/html": [
              "<style>#sk-container-id-4 {color: black;background-color: white;}#sk-container-id-4 pre{padding: 0;}#sk-container-id-4 div.sk-toggleable {background-color: white;}#sk-container-id-4 label.sk-toggleable__label {cursor: pointer;display: block;width: 100%;margin-bottom: 0;padding: 0.3em;box-sizing: border-box;text-align: center;}#sk-container-id-4 label.sk-toggleable__label-arrow:before {content: \"▸\";float: left;margin-right: 0.25em;color: #696969;}#sk-container-id-4 label.sk-toggleable__label-arrow:hover:before {color: black;}#sk-container-id-4 div.sk-estimator:hover label.sk-toggleable__label-arrow:before {color: black;}#sk-container-id-4 div.sk-toggleable__content {max-height: 0;max-width: 0;overflow: hidden;text-align: left;background-color: #f0f8ff;}#sk-container-id-4 div.sk-toggleable__content pre {margin: 0.2em;color: black;border-radius: 0.25em;background-color: #f0f8ff;}#sk-container-id-4 input.sk-toggleable__control:checked~div.sk-toggleable__content {max-height: 200px;max-width: 100%;overflow: auto;}#sk-container-id-4 input.sk-toggleable__control:checked~label.sk-toggleable__label-arrow:before {content: \"▾\";}#sk-container-id-4 div.sk-estimator input.sk-toggleable__control:checked~label.sk-toggleable__label {background-color: #d4ebff;}#sk-container-id-4 div.sk-label input.sk-toggleable__control:checked~label.sk-toggleable__label {background-color: #d4ebff;}#sk-container-id-4 input.sk-hidden--visually {border: 0;clip: rect(1px 1px 1px 1px);clip: rect(1px, 1px, 1px, 1px);height: 1px;margin: -1px;overflow: hidden;padding: 0;position: absolute;width: 1px;}#sk-container-id-4 div.sk-estimator {font-family: monospace;background-color: #f0f8ff;border: 1px dotted black;border-radius: 0.25em;box-sizing: border-box;margin-bottom: 0.5em;}#sk-container-id-4 div.sk-estimator:hover {background-color: #d4ebff;}#sk-container-id-4 div.sk-parallel-item::after {content: \"\";width: 100%;border-bottom: 1px solid gray;flex-grow: 1;}#sk-container-id-4 div.sk-label:hover label.sk-toggleable__label {background-color: #d4ebff;}#sk-container-id-4 div.sk-serial::before {content: \"\";position: absolute;border-left: 1px solid gray;box-sizing: border-box;top: 0;bottom: 0;left: 50%;z-index: 0;}#sk-container-id-4 div.sk-serial {display: flex;flex-direction: column;align-items: center;background-color: white;padding-right: 0.2em;padding-left: 0.2em;position: relative;}#sk-container-id-4 div.sk-item {position: relative;z-index: 1;}#sk-container-id-4 div.sk-parallel {display: flex;align-items: stretch;justify-content: center;background-color: white;position: relative;}#sk-container-id-4 div.sk-item::before, #sk-container-id-4 div.sk-parallel-item::before {content: \"\";position: absolute;border-left: 1px solid gray;box-sizing: border-box;top: 0;bottom: 0;left: 50%;z-index: -1;}#sk-container-id-4 div.sk-parallel-item {display: flex;flex-direction: column;z-index: 1;position: relative;background-color: white;}#sk-container-id-4 div.sk-parallel-item:first-child::after {align-self: flex-end;width: 50%;}#sk-container-id-4 div.sk-parallel-item:last-child::after {align-self: flex-start;width: 50%;}#sk-container-id-4 div.sk-parallel-item:only-child::after {width: 0;}#sk-container-id-4 div.sk-dashed-wrapped {border: 1px dashed gray;margin: 0 0.4em 0.5em 0.4em;box-sizing: border-box;padding-bottom: 0.4em;background-color: white;}#sk-container-id-4 div.sk-label label {font-family: monospace;font-weight: bold;display: inline-block;line-height: 1.2em;}#sk-container-id-4 div.sk-label-container {text-align: center;}#sk-container-id-4 div.sk-container {/* jupyter's `normalize.less` sets `[hidden] { display: none; }` but bootstrap.min.css set `[hidden] { display: none !important; }` so we also need the `!important` here to be able to override the default hidden behavior on the sphinx rendered scikit-learn.org. See: https://github.com/scikit-learn/scikit-learn/issues/21755 */display: inline-block !important;position: relative;}#sk-container-id-4 div.sk-text-repr-fallback {display: none;}</style><div id=\"sk-container-id-4\" class=\"sk-top-container\"><div class=\"sk-text-repr-fallback\"><pre>MinMaxScaler()</pre><b>In a Jupyter environment, please rerun this cell to show the HTML representation or trust the notebook. <br />On GitHub, the HTML representation is unable to render, please try loading this page with nbviewer.org.</b></div><div class=\"sk-container\" hidden><div class=\"sk-item\"><div class=\"sk-estimator sk-toggleable\"><input class=\"sk-toggleable__control sk-hidden--visually\" id=\"sk-estimator-id-4\" type=\"checkbox\" checked><label for=\"sk-estimator-id-4\" class=\"sk-toggleable__label sk-toggleable__label-arrow\">MinMaxScaler</label><div class=\"sk-toggleable__content\"><pre>MinMaxScaler()</pre></div></div></div></div></div>"
            ]
          },
          "metadata": {},
          "execution_count": 184
        }
      ]
    },
    {
      "cell_type": "code",
      "source": [
        "X_train= scaler.transform(X_train)\n",
        "X_test= scaler.transform(X_test)"
      ],
      "metadata": {
        "id": "b46DTu8ZnwGL"
      },
      "execution_count": 185,
      "outputs": []
    },
    {
      "cell_type": "code",
      "source": [
        "X_train.min()"
      ],
      "metadata": {
        "colab": {
          "base_uri": "https://localhost:8080/"
        },
        "id": "xUUKY1TOoL3K",
        "outputId": "91f36b54-7133-4b6b-ff05-c8d377b12b43"
      },
      "execution_count": 186,
      "outputs": [
        {
          "output_type": "execute_result",
          "data": {
            "text/plain": [
              "0.0"
            ]
          },
          "metadata": {},
          "execution_count": 186
        }
      ]
    },
    {
      "cell_type": "code",
      "source": [
        "from tensorflow.keras.models import Sequential\n",
        "from tensorflow.keras.layers import Dense, Activation\n"
      ],
      "metadata": {
        "id": "OFzupemboNwy"
      },
      "execution_count": 187,
      "outputs": []
    },
    {
      "cell_type": "code",
      "source": [
        "model = Sequential()\n",
        "model.add(Dense(4,activation=\"relu\"))\n",
        "model.add(Dense(4, activation = \"relu\"))\n",
        "model.add(Dense(4, activation=\"relu\"))\n",
        "#output\n",
        "model.add(Dense(1))"
      ],
      "metadata": {
        "id": "SwvHxOOho33D"
      },
      "execution_count": 188,
      "outputs": []
    },
    {
      "cell_type": "code",
      "source": [
        "model.compile(optimizer=\"rmsprop\", loss=\"mse\")"
      ],
      "metadata": {
        "id": "wsEKx3OJrKfj"
      },
      "execution_count": 189,
      "outputs": []
    },
    {
      "cell_type": "code",
      "source": [
        "model.fit(x=X_train, y=y_train, epochs=250)"
      ],
      "metadata": {
        "colab": {
          "base_uri": "https://localhost:8080/"
        },
        "id": "plPYM-vnth2V",
        "outputId": "f61c0036-a2d9-45eb-d9af-99eac91dee9b"
      },
      "execution_count": 190,
      "outputs": [
        {
          "output_type": "stream",
          "name": "stdout",
          "text": [
            "Epoch 1/250\n",
            "22/22 [==============================] - 1s 2ms/step - loss: 256705.6875\n",
            "Epoch 2/250\n",
            "22/22 [==============================] - 0s 2ms/step - loss: 256650.6094\n",
            "Epoch 3/250\n",
            "22/22 [==============================] - 0s 2ms/step - loss: 256600.7969\n",
            "Epoch 4/250\n",
            "22/22 [==============================] - 0s 2ms/step - loss: 256549.2969\n",
            "Epoch 5/250\n",
            "22/22 [==============================] - 0s 2ms/step - loss: 256495.6094\n",
            "Epoch 6/250\n",
            "22/22 [==============================] - 0s 2ms/step - loss: 256440.0469\n",
            "Epoch 7/250\n",
            "22/22 [==============================] - 0s 2ms/step - loss: 256382.2656\n",
            "Epoch 8/250\n",
            "22/22 [==============================] - 0s 2ms/step - loss: 256322.1094\n",
            "Epoch 9/250\n",
            "22/22 [==============================] - 0s 2ms/step - loss: 256259.5156\n",
            "Epoch 10/250\n",
            "22/22 [==============================] - 0s 2ms/step - loss: 256193.8125\n",
            "Epoch 11/250\n",
            "22/22 [==============================] - 0s 2ms/step - loss: 256125.2188\n",
            "Epoch 12/250\n",
            "22/22 [==============================] - 0s 2ms/step - loss: 256054.1250\n",
            "Epoch 13/250\n",
            "22/22 [==============================] - 0s 2ms/step - loss: 255979.9375\n",
            "Epoch 14/250\n",
            "22/22 [==============================] - 0s 2ms/step - loss: 255902.9688\n",
            "Epoch 15/250\n",
            "22/22 [==============================] - 0s 2ms/step - loss: 255823.2500\n",
            "Epoch 16/250\n",
            "22/22 [==============================] - 0s 2ms/step - loss: 255740.1094\n",
            "Epoch 17/250\n",
            "22/22 [==============================] - 0s 2ms/step - loss: 255654.1094\n",
            "Epoch 18/250\n",
            "22/22 [==============================] - 0s 2ms/step - loss: 255565.2188\n",
            "Epoch 19/250\n",
            "22/22 [==============================] - 0s 2ms/step - loss: 255472.7969\n",
            "Epoch 20/250\n",
            "22/22 [==============================] - 0s 2ms/step - loss: 255376.8906\n",
            "Epoch 21/250\n",
            "22/22 [==============================] - 0s 2ms/step - loss: 255277.8281\n",
            "Epoch 22/250\n",
            "22/22 [==============================] - 0s 2ms/step - loss: 255175.6406\n",
            "Epoch 23/250\n",
            "22/22 [==============================] - 0s 2ms/step - loss: 255069.8438\n",
            "Epoch 24/250\n",
            "22/22 [==============================] - 0s 2ms/step - loss: 254960.9531\n",
            "Epoch 25/250\n",
            "22/22 [==============================] - 0s 2ms/step - loss: 254847.8438\n",
            "Epoch 26/250\n",
            "22/22 [==============================] - 0s 2ms/step - loss: 254729.4375\n",
            "Epoch 27/250\n",
            "22/22 [==============================] - 0s 2ms/step - loss: 254596.5000\n",
            "Epoch 28/250\n",
            "22/22 [==============================] - 0s 2ms/step - loss: 254441.9375\n",
            "Epoch 29/250\n",
            "22/22 [==============================] - 0s 2ms/step - loss: 254271.7969\n",
            "Epoch 30/250\n",
            "22/22 [==============================] - 0s 2ms/step - loss: 254091.1562\n",
            "Epoch 31/250\n",
            "22/22 [==============================] - 0s 2ms/step - loss: 253900.1094\n",
            "Epoch 32/250\n",
            "22/22 [==============================] - 0s 2ms/step - loss: 253698.5625\n",
            "Epoch 33/250\n",
            "22/22 [==============================] - 0s 2ms/step - loss: 253484.7500\n",
            "Epoch 34/250\n",
            "22/22 [==============================] - 0s 2ms/step - loss: 253258.4688\n",
            "Epoch 35/250\n",
            "22/22 [==============================] - 0s 2ms/step - loss: 253018.5781\n",
            "Epoch 36/250\n",
            "22/22 [==============================] - 0s 2ms/step - loss: 252767.0781\n",
            "Epoch 37/250\n",
            "22/22 [==============================] - 0s 2ms/step - loss: 252500.8281\n",
            "Epoch 38/250\n",
            "22/22 [==============================] - 0s 2ms/step - loss: 252221.5938\n",
            "Epoch 39/250\n",
            "22/22 [==============================] - 0s 2ms/step - loss: 251926.3125\n",
            "Epoch 40/250\n",
            "22/22 [==============================] - 0s 2ms/step - loss: 251615.4688\n",
            "Epoch 41/250\n",
            "22/22 [==============================] - 0s 2ms/step - loss: 251290.4844\n",
            "Epoch 42/250\n",
            "22/22 [==============================] - 0s 2ms/step - loss: 250948.9219\n",
            "Epoch 43/250\n",
            "22/22 [==============================] - 0s 2ms/step - loss: 250589.1719\n",
            "Epoch 44/250\n",
            "22/22 [==============================] - 0s 2ms/step - loss: 250210.4688\n",
            "Epoch 45/250\n",
            "22/22 [==============================] - 0s 2ms/step - loss: 249816.0156\n",
            "Epoch 46/250\n",
            "22/22 [==============================] - 0s 2ms/step - loss: 249401.5781\n",
            "Epoch 47/250\n",
            "22/22 [==============================] - 0s 2ms/step - loss: 248967.8438\n",
            "Epoch 48/250\n",
            "22/22 [==============================] - 0s 2ms/step - loss: 248515.3125\n",
            "Epoch 49/250\n",
            "22/22 [==============================] - 0s 2ms/step - loss: 248038.2656\n",
            "Epoch 50/250\n",
            "22/22 [==============================] - 0s 2ms/step - loss: 247542.3125\n",
            "Epoch 51/250\n",
            "22/22 [==============================] - 0s 2ms/step - loss: 247024.0469\n",
            "Epoch 52/250\n",
            "22/22 [==============================] - 0s 2ms/step - loss: 246481.8906\n",
            "Epoch 53/250\n",
            "22/22 [==============================] - 0s 2ms/step - loss: 245919.1562\n",
            "Epoch 54/250\n",
            "22/22 [==============================] - 0s 2ms/step - loss: 245328.9531\n",
            "Epoch 55/250\n",
            "22/22 [==============================] - 0s 2ms/step - loss: 244717.0781\n",
            "Epoch 56/250\n",
            "22/22 [==============================] - 0s 2ms/step - loss: 244076.2812\n",
            "Epoch 57/250\n",
            "22/22 [==============================] - 0s 2ms/step - loss: 243411.5938\n",
            "Epoch 58/250\n",
            "22/22 [==============================] - 0s 2ms/step - loss: 242720.0625\n",
            "Epoch 59/250\n",
            "22/22 [==============================] - 0s 2ms/step - loss: 242000.5312\n",
            "Epoch 60/250\n",
            "22/22 [==============================] - 0s 2ms/step - loss: 241253.0781\n",
            "Epoch 61/250\n",
            "22/22 [==============================] - 0s 3ms/step - loss: 240477.7344\n",
            "Epoch 62/250\n",
            "22/22 [==============================] - 0s 3ms/step - loss: 239675.0000\n",
            "Epoch 63/250\n",
            "22/22 [==============================] - 0s 3ms/step - loss: 238842.1250\n",
            "Epoch 64/250\n",
            "22/22 [==============================] - 0s 3ms/step - loss: 237974.4688\n",
            "Epoch 65/250\n",
            "22/22 [==============================] - 0s 2ms/step - loss: 237079.0156\n",
            "Epoch 66/250\n",
            "22/22 [==============================] - 0s 2ms/step - loss: 236147.8125\n",
            "Epoch 67/250\n",
            "22/22 [==============================] - 0s 2ms/step - loss: 235185.3438\n",
            "Epoch 68/250\n",
            "22/22 [==============================] - 0s 3ms/step - loss: 234187.5469\n",
            "Epoch 69/250\n",
            "22/22 [==============================] - 0s 2ms/step - loss: 233156.9219\n",
            "Epoch 70/250\n",
            "22/22 [==============================] - 0s 2ms/step - loss: 232090.6094\n",
            "Epoch 71/250\n",
            "22/22 [==============================] - 0s 2ms/step - loss: 230988.6094\n",
            "Epoch 72/250\n",
            "22/22 [==============================] - 0s 3ms/step - loss: 229852.7344\n",
            "Epoch 73/250\n",
            "22/22 [==============================] - 0s 2ms/step - loss: 228683.3438\n",
            "Epoch 74/250\n",
            "22/22 [==============================] - 0s 2ms/step - loss: 227467.9062\n",
            "Epoch 75/250\n",
            "22/22 [==============================] - 0s 2ms/step - loss: 226224.7812\n",
            "Epoch 76/250\n",
            "22/22 [==============================] - 0s 2ms/step - loss: 224939.8438\n",
            "Epoch 77/250\n",
            "22/22 [==============================] - 0s 2ms/step - loss: 223607.3594\n",
            "Epoch 78/250\n",
            "22/22 [==============================] - 0s 2ms/step - loss: 222243.3906\n",
            "Epoch 79/250\n",
            "22/22 [==============================] - 0s 2ms/step - loss: 220836.7969\n",
            "Epoch 80/250\n",
            "22/22 [==============================] - 0s 2ms/step - loss: 219390.1094\n",
            "Epoch 81/250\n",
            "22/22 [==============================] - 0s 2ms/step - loss: 217904.0469\n",
            "Epoch 82/250\n",
            "22/22 [==============================] - 0s 2ms/step - loss: 216377.2812\n",
            "Epoch 83/250\n",
            "22/22 [==============================] - 0s 2ms/step - loss: 214801.0781\n",
            "Epoch 84/250\n",
            "22/22 [==============================] - 0s 2ms/step - loss: 213185.6719\n",
            "Epoch 85/250\n",
            "22/22 [==============================] - 0s 2ms/step - loss: 211524.4531\n",
            "Epoch 86/250\n",
            "22/22 [==============================] - 0s 3ms/step - loss: 209823.9531\n",
            "Epoch 87/250\n",
            "22/22 [==============================] - 0s 2ms/step - loss: 208079.6406\n",
            "Epoch 88/250\n",
            "22/22 [==============================] - 0s 2ms/step - loss: 206284.3906\n",
            "Epoch 89/250\n",
            "22/22 [==============================] - 0s 2ms/step - loss: 204447.4688\n",
            "Epoch 90/250\n",
            "22/22 [==============================] - 0s 3ms/step - loss: 202581.8750\n",
            "Epoch 91/250\n",
            "22/22 [==============================] - 0s 3ms/step - loss: 200648.6875\n",
            "Epoch 92/250\n",
            "22/22 [==============================] - 0s 3ms/step - loss: 198681.0781\n",
            "Epoch 93/250\n",
            "22/22 [==============================] - 0s 3ms/step - loss: 196672.7969\n",
            "Epoch 94/250\n",
            "22/22 [==============================] - 0s 3ms/step - loss: 194606.6562\n",
            "Epoch 95/250\n",
            "22/22 [==============================] - 0s 3ms/step - loss: 192500.7344\n",
            "Epoch 96/250\n",
            "22/22 [==============================] - 0s 3ms/step - loss: 190342.1094\n",
            "Epoch 97/250\n",
            "22/22 [==============================] - 0s 3ms/step - loss: 188137.3750\n",
            "Epoch 98/250\n",
            "22/22 [==============================] - 0s 3ms/step - loss: 185898.8438\n",
            "Epoch 99/250\n",
            "22/22 [==============================] - 0s 3ms/step - loss: 183607.7344\n",
            "Epoch 100/250\n",
            "22/22 [==============================] - 0s 2ms/step - loss: 181260.1875\n",
            "Epoch 101/250\n",
            "22/22 [==============================] - 0s 2ms/step - loss: 178876.7344\n",
            "Epoch 102/250\n",
            "22/22 [==============================] - 0s 2ms/step - loss: 176448.7031\n",
            "Epoch 103/250\n",
            "22/22 [==============================] - 0s 3ms/step - loss: 173966.1719\n",
            "Epoch 104/250\n",
            "22/22 [==============================] - 0s 3ms/step - loss: 171443.9375\n",
            "Epoch 105/250\n",
            "22/22 [==============================] - 0s 3ms/step - loss: 168871.9531\n",
            "Epoch 106/250\n",
            "22/22 [==============================] - 0s 3ms/step - loss: 166261.1406\n",
            "Epoch 107/250\n",
            "22/22 [==============================] - 0s 3ms/step - loss: 163614.5000\n",
            "Epoch 108/250\n",
            "22/22 [==============================] - 0s 3ms/step - loss: 160904.7031\n",
            "Epoch 109/250\n",
            "22/22 [==============================] - 0s 3ms/step - loss: 158163.1875\n",
            "Epoch 110/250\n",
            "22/22 [==============================] - 0s 2ms/step - loss: 155385.8438\n",
            "Epoch 111/250\n",
            "22/22 [==============================] - 0s 3ms/step - loss: 152564.9219\n",
            "Epoch 112/250\n",
            "22/22 [==============================] - 0s 3ms/step - loss: 149694.1250\n",
            "Epoch 113/250\n",
            "22/22 [==============================] - 0s 3ms/step - loss: 146774.9688\n",
            "Epoch 114/250\n",
            "22/22 [==============================] - 0s 3ms/step - loss: 143829.3750\n",
            "Epoch 115/250\n",
            "22/22 [==============================] - 0s 3ms/step - loss: 140842.2188\n",
            "Epoch 116/250\n",
            "22/22 [==============================] - 0s 2ms/step - loss: 137838.8906\n",
            "Epoch 117/250\n",
            "22/22 [==============================] - 0s 3ms/step - loss: 134768.8281\n",
            "Epoch 118/250\n",
            "22/22 [==============================] - 0s 3ms/step - loss: 131680.5469\n",
            "Epoch 119/250\n",
            "22/22 [==============================] - 0s 2ms/step - loss: 128574.0000\n",
            "Epoch 120/250\n",
            "22/22 [==============================] - 0s 2ms/step - loss: 125415.3828\n",
            "Epoch 121/250\n",
            "22/22 [==============================] - 0s 2ms/step - loss: 122224.2266\n",
            "Epoch 122/250\n",
            "22/22 [==============================] - 0s 2ms/step - loss: 119016.0938\n",
            "Epoch 123/250\n",
            "22/22 [==============================] - 0s 3ms/step - loss: 115797.7266\n",
            "Epoch 124/250\n",
            "22/22 [==============================] - 0s 2ms/step - loss: 112561.3281\n",
            "Epoch 125/250\n",
            "22/22 [==============================] - 0s 2ms/step - loss: 109277.0938\n",
            "Epoch 126/250\n",
            "22/22 [==============================] - 0s 2ms/step - loss: 105975.3828\n",
            "Epoch 127/250\n",
            "22/22 [==============================] - 0s 2ms/step - loss: 102660.7656\n",
            "Epoch 128/250\n",
            "22/22 [==============================] - 0s 2ms/step - loss: 99316.8125\n",
            "Epoch 129/250\n",
            "22/22 [==============================] - 0s 2ms/step - loss: 95968.9141\n",
            "Epoch 130/250\n",
            "22/22 [==============================] - 0s 2ms/step - loss: 92632.5859\n",
            "Epoch 131/250\n",
            "22/22 [==============================] - 0s 2ms/step - loss: 89277.8594\n",
            "Epoch 132/250\n",
            "22/22 [==============================] - 0s 2ms/step - loss: 85928.7734\n",
            "Epoch 133/250\n",
            "22/22 [==============================] - 0s 2ms/step - loss: 82578.4219\n",
            "Epoch 134/250\n",
            "22/22 [==============================] - 0s 2ms/step - loss: 79227.1875\n",
            "Epoch 135/250\n",
            "22/22 [==============================] - 0s 2ms/step - loss: 75852.3828\n",
            "Epoch 136/250\n",
            "22/22 [==============================] - 0s 2ms/step - loss: 72523.8203\n",
            "Epoch 137/250\n",
            "22/22 [==============================] - 0s 2ms/step - loss: 69208.9766\n",
            "Epoch 138/250\n",
            "22/22 [==============================] - 0s 2ms/step - loss: 65892.1719\n",
            "Epoch 139/250\n",
            "22/22 [==============================] - 0s 2ms/step - loss: 62601.9102\n",
            "Epoch 140/250\n",
            "22/22 [==============================] - 0s 2ms/step - loss: 59345.6016\n",
            "Epoch 141/250\n",
            "22/22 [==============================] - 0s 2ms/step - loss: 56132.5703\n",
            "Epoch 142/250\n",
            "22/22 [==============================] - 0s 2ms/step - loss: 52963.5273\n",
            "Epoch 143/250\n",
            "22/22 [==============================] - 0s 2ms/step - loss: 49805.3555\n",
            "Epoch 144/250\n",
            "22/22 [==============================] - 0s 2ms/step - loss: 46716.1133\n",
            "Epoch 145/250\n",
            "22/22 [==============================] - 0s 2ms/step - loss: 43664.9414\n",
            "Epoch 146/250\n",
            "22/22 [==============================] - 0s 2ms/step - loss: 40663.7969\n",
            "Epoch 147/250\n",
            "22/22 [==============================] - 0s 2ms/step - loss: 37727.2148\n",
            "Epoch 148/250\n",
            "22/22 [==============================] - 0s 2ms/step - loss: 34881.8789\n",
            "Epoch 149/250\n",
            "22/22 [==============================] - 0s 2ms/step - loss: 32109.6738\n",
            "Epoch 150/250\n",
            "22/22 [==============================] - 0s 2ms/step - loss: 29399.2539\n",
            "Epoch 151/250\n",
            "22/22 [==============================] - 0s 2ms/step - loss: 26768.1035\n",
            "Epoch 152/250\n",
            "22/22 [==============================] - 0s 2ms/step - loss: 24246.7852\n",
            "Epoch 153/250\n",
            "22/22 [==============================] - 0s 2ms/step - loss: 21833.5801\n",
            "Epoch 154/250\n",
            "22/22 [==============================] - 0s 2ms/step - loss: 19515.4688\n",
            "Epoch 155/250\n",
            "22/22 [==============================] - 0s 2ms/step - loss: 17317.4141\n",
            "Epoch 156/250\n",
            "22/22 [==============================] - 0s 2ms/step - loss: 15239.6367\n",
            "Epoch 157/250\n",
            "22/22 [==============================] - 0s 2ms/step - loss: 13302.7314\n",
            "Epoch 158/250\n",
            "22/22 [==============================] - 0s 2ms/step - loss: 11491.6533\n",
            "Epoch 159/250\n",
            "22/22 [==============================] - 0s 2ms/step - loss: 9830.7354\n",
            "Epoch 160/250\n",
            "22/22 [==============================] - 0s 2ms/step - loss: 8334.0049\n",
            "Epoch 161/250\n",
            "22/22 [==============================] - 0s 2ms/step - loss: 6975.0044\n",
            "Epoch 162/250\n",
            "22/22 [==============================] - 0s 2ms/step - loss: 5778.9526\n",
            "Epoch 163/250\n",
            "22/22 [==============================] - 0s 2ms/step - loss: 4789.7456\n",
            "Epoch 164/250\n",
            "22/22 [==============================] - 0s 2ms/step - loss: 3963.1650\n",
            "Epoch 165/250\n",
            "22/22 [==============================] - 0s 2ms/step - loss: 3323.0061\n",
            "Epoch 166/250\n",
            "22/22 [==============================] - 0s 2ms/step - loss: 2866.1091\n",
            "Epoch 167/250\n",
            "22/22 [==============================] - 0s 2ms/step - loss: 2576.0432\n",
            "Epoch 168/250\n",
            "22/22 [==============================] - 0s 2ms/step - loss: 2437.0625\n",
            "Epoch 169/250\n",
            "22/22 [==============================] - 0s 2ms/step - loss: 2381.6086\n",
            "Epoch 170/250\n",
            "22/22 [==============================] - 0s 2ms/step - loss: 2358.5295\n",
            "Epoch 171/250\n",
            "22/22 [==============================] - 0s 2ms/step - loss: 2337.5029\n",
            "Epoch 172/250\n",
            "22/22 [==============================] - 0s 2ms/step - loss: 2317.0264\n",
            "Epoch 173/250\n",
            "22/22 [==============================] - 0s 2ms/step - loss: 2296.6453\n",
            "Epoch 174/250\n",
            "22/22 [==============================] - 0s 2ms/step - loss: 2275.9971\n",
            "Epoch 175/250\n",
            "22/22 [==============================] - 0s 2ms/step - loss: 2256.0249\n",
            "Epoch 176/250\n",
            "22/22 [==============================] - 0s 2ms/step - loss: 2237.4392\n",
            "Epoch 177/250\n",
            "22/22 [==============================] - 0s 2ms/step - loss: 2216.6633\n",
            "Epoch 178/250\n",
            "22/22 [==============================] - 0s 2ms/step - loss: 2196.4543\n",
            "Epoch 179/250\n",
            "22/22 [==============================] - 0s 2ms/step - loss: 2178.8875\n",
            "Epoch 180/250\n",
            "22/22 [==============================] - 0s 2ms/step - loss: 2158.2212\n",
            "Epoch 181/250\n",
            "22/22 [==============================] - 0s 2ms/step - loss: 2138.2490\n",
            "Epoch 182/250\n",
            "22/22 [==============================] - 0s 2ms/step - loss: 2120.2371\n",
            "Epoch 183/250\n",
            "22/22 [==============================] - 0s 2ms/step - loss: 2098.8425\n",
            "Epoch 184/250\n",
            "22/22 [==============================] - 0s 2ms/step - loss: 2081.5295\n",
            "Epoch 185/250\n",
            "22/22 [==============================] - 0s 2ms/step - loss: 2059.7559\n",
            "Epoch 186/250\n",
            "22/22 [==============================] - 0s 2ms/step - loss: 2040.3506\n",
            "Epoch 187/250\n",
            "22/22 [==============================] - 0s 2ms/step - loss: 2024.4579\n",
            "Epoch 188/250\n",
            "22/22 [==============================] - 0s 2ms/step - loss: 2004.6166\n",
            "Epoch 189/250\n",
            "22/22 [==============================] - 0s 2ms/step - loss: 1981.8491\n",
            "Epoch 190/250\n",
            "22/22 [==============================] - 0s 2ms/step - loss: 1960.6628\n",
            "Epoch 191/250\n",
            "22/22 [==============================] - 0s 3ms/step - loss: 1944.1396\n",
            "Epoch 192/250\n",
            "22/22 [==============================] - 0s 2ms/step - loss: 1923.7504\n",
            "Epoch 193/250\n",
            "22/22 [==============================] - 0s 2ms/step - loss: 1907.0786\n",
            "Epoch 194/250\n",
            "22/22 [==============================] - 0s 2ms/step - loss: 1889.9141\n",
            "Epoch 195/250\n",
            "22/22 [==============================] - 0s 2ms/step - loss: 1871.6448\n",
            "Epoch 196/250\n",
            "22/22 [==============================] - 0s 2ms/step - loss: 1851.6345\n",
            "Epoch 197/250\n",
            "22/22 [==============================] - 0s 2ms/step - loss: 1833.2855\n",
            "Epoch 198/250\n",
            "22/22 [==============================] - 0s 2ms/step - loss: 1814.2928\n",
            "Epoch 199/250\n",
            "22/22 [==============================] - 0s 2ms/step - loss: 1794.1436\n",
            "Epoch 200/250\n",
            "22/22 [==============================] - 0s 2ms/step - loss: 1776.5703\n",
            "Epoch 201/250\n",
            "22/22 [==============================] - 0s 2ms/step - loss: 1757.4557\n",
            "Epoch 202/250\n",
            "22/22 [==============================] - 0s 2ms/step - loss: 1739.4360\n",
            "Epoch 203/250\n",
            "22/22 [==============================] - 0s 2ms/step - loss: 1722.0880\n",
            "Epoch 204/250\n",
            "22/22 [==============================] - 0s 2ms/step - loss: 1704.9615\n",
            "Epoch 205/250\n",
            "22/22 [==============================] - 0s 2ms/step - loss: 1686.5011\n",
            "Epoch 206/250\n",
            "22/22 [==============================] - 0s 2ms/step - loss: 1669.4139\n",
            "Epoch 207/250\n",
            "22/22 [==============================] - 0s 2ms/step - loss: 1652.7808\n",
            "Epoch 208/250\n",
            "22/22 [==============================] - 0s 2ms/step - loss: 1634.0690\n",
            "Epoch 209/250\n",
            "22/22 [==============================] - 0s 2ms/step - loss: 1617.0624\n",
            "Epoch 210/250\n",
            "22/22 [==============================] - 0s 2ms/step - loss: 1598.4766\n",
            "Epoch 211/250\n",
            "22/22 [==============================] - 0s 2ms/step - loss: 1580.1635\n",
            "Epoch 212/250\n",
            "22/22 [==============================] - 0s 2ms/step - loss: 1563.8861\n",
            "Epoch 213/250\n",
            "22/22 [==============================] - 0s 2ms/step - loss: 1545.5636\n",
            "Epoch 214/250\n",
            "22/22 [==============================] - 0s 2ms/step - loss: 1525.7264\n",
            "Epoch 215/250\n",
            "22/22 [==============================] - 0s 2ms/step - loss: 1508.5425\n",
            "Epoch 216/250\n",
            "22/22 [==============================] - 0s 2ms/step - loss: 1492.3931\n",
            "Epoch 217/250\n",
            "22/22 [==============================] - 0s 2ms/step - loss: 1472.3960\n",
            "Epoch 218/250\n",
            "22/22 [==============================] - 0s 2ms/step - loss: 1460.5261\n",
            "Epoch 219/250\n",
            "22/22 [==============================] - 0s 2ms/step - loss: 1442.6862\n",
            "Epoch 220/250\n",
            "22/22 [==============================] - 0s 2ms/step - loss: 1422.9296\n",
            "Epoch 221/250\n",
            "22/22 [==============================] - 0s 2ms/step - loss: 1406.7408\n",
            "Epoch 222/250\n",
            "22/22 [==============================] - 0s 2ms/step - loss: 1389.0869\n",
            "Epoch 223/250\n",
            "22/22 [==============================] - 0s 2ms/step - loss: 1372.4750\n",
            "Epoch 224/250\n",
            "22/22 [==============================] - 0s 2ms/step - loss: 1355.8080\n",
            "Epoch 225/250\n",
            "22/22 [==============================] - 0s 2ms/step - loss: 1338.1227\n",
            "Epoch 226/250\n",
            "22/22 [==============================] - 0s 2ms/step - loss: 1320.9697\n",
            "Epoch 227/250\n",
            "22/22 [==============================] - 0s 2ms/step - loss: 1302.6898\n",
            "Epoch 228/250\n",
            "22/22 [==============================] - 0s 2ms/step - loss: 1287.3275\n",
            "Epoch 229/250\n",
            "22/22 [==============================] - 0s 2ms/step - loss: 1271.2147\n",
            "Epoch 230/250\n",
            "22/22 [==============================] - 0s 2ms/step - loss: 1254.3683\n",
            "Epoch 231/250\n",
            "22/22 [==============================] - 0s 2ms/step - loss: 1235.1581\n",
            "Epoch 232/250\n",
            "22/22 [==============================] - 0s 2ms/step - loss: 1216.0583\n",
            "Epoch 233/250\n",
            "22/22 [==============================] - 0s 2ms/step - loss: 1200.5930\n",
            "Epoch 234/250\n",
            "22/22 [==============================] - 0s 2ms/step - loss: 1183.1787\n",
            "Epoch 235/250\n",
            "22/22 [==============================] - 0s 2ms/step - loss: 1166.6255\n",
            "Epoch 236/250\n",
            "22/22 [==============================] - 0s 2ms/step - loss: 1148.9493\n",
            "Epoch 237/250\n",
            "22/22 [==============================] - 0s 2ms/step - loss: 1133.2017\n",
            "Epoch 238/250\n",
            "22/22 [==============================] - 0s 2ms/step - loss: 1116.3129\n",
            "Epoch 239/250\n",
            "22/22 [==============================] - 0s 2ms/step - loss: 1101.8041\n",
            "Epoch 240/250\n",
            "22/22 [==============================] - 0s 2ms/step - loss: 1088.3922\n",
            "Epoch 241/250\n",
            "22/22 [==============================] - 0s 2ms/step - loss: 1070.4200\n",
            "Epoch 242/250\n",
            "22/22 [==============================] - 0s 2ms/step - loss: 1052.5522\n",
            "Epoch 243/250\n",
            "22/22 [==============================] - 0s 2ms/step - loss: 1038.5629\n",
            "Epoch 244/250\n",
            "22/22 [==============================] - 0s 2ms/step - loss: 1023.6287\n",
            "Epoch 245/250\n",
            "22/22 [==============================] - 0s 2ms/step - loss: 1007.7430\n",
            "Epoch 246/250\n",
            "22/22 [==============================] - 0s 2ms/step - loss: 990.1196\n",
            "Epoch 247/250\n",
            "22/22 [==============================] - 0s 2ms/step - loss: 973.1489\n",
            "Epoch 248/250\n",
            "22/22 [==============================] - 0s 2ms/step - loss: 957.7875\n",
            "Epoch 249/250\n",
            "22/22 [==============================] - 0s 2ms/step - loss: 944.0631\n",
            "Epoch 250/250\n",
            "22/22 [==============================] - 0s 2ms/step - loss: 929.4018\n"
          ]
        },
        {
          "output_type": "execute_result",
          "data": {
            "text/plain": [
              "<keras.callbacks.History at 0x7f02bbc26c80>"
            ]
          },
          "metadata": {},
          "execution_count": 190
        }
      ]
    },
    {
      "cell_type": "markdown",
      "source": [
        "Training"
      ],
      "metadata": {
        "id": "eQFmV4eLs2fv"
      }
    },
    {
      "cell_type": "code",
      "source": [
        "loss_df=pd.DataFrame(model.history.history)"
      ],
      "metadata": {
        "id": "JcgXNViDr1sk"
      },
      "execution_count": 191,
      "outputs": []
    },
    {
      "cell_type": "code",
      "source": [
        "loss_df.plot()\n",
        "plt.title(\"\")\n",
        "plt.xlabel(\"Epoch number\")\n",
        "plt.ylabel(\"Loss\")"
      ],
      "metadata": {
        "colab": {
          "base_uri": "https://localhost:8080/",
          "height": 466
        },
        "id": "GuEBLKctuuCz",
        "outputId": "e7658e05-cf89-4089-8aec-0ef52244bbb2"
      },
      "execution_count": 192,
      "outputs": [
        {
          "output_type": "execute_result",
          "data": {
            "text/plain": [
              "Text(0, 0.5, 'Loss')"
            ]
          },
          "metadata": {},
          "execution_count": 192
        },
        {
          "output_type": "display_data",
          "data": {
            "text/plain": [
              "<Figure size 640x480 with 1 Axes>"
            ],
            "image/png": "[encoded data removed]"
          },
          "metadata": {}
        }
      ]
    },
    {
      "cell_type": "markdown",
      "source": [
        "Compare final evaluation MSE ON Training set and test set.\n"
      ],
      "metadata": {
        "id": "fn-7zUtScL7-"
      }
    },
    {
      "cell_type": "code",
      "source": [
        "model.evaluate(X_test, y_test, verbose=0)"
      ],
      "metadata": {
        "colab": {
          "base_uri": "https://localhost:8080/"
        },
        "id": "mqgGcxvMnPv9",
        "outputId": "af96e338-3248-43d0-a620-7524b2fc9dfc"
      },
      "execution_count": 193,
      "outputs": [
        {
          "output_type": "execute_result",
          "data": {
            "text/plain": [
              "902.8876953125"
            ]
          },
          "metadata": {},
          "execution_count": 193
        }
      ]
    },
    {
      "cell_type": "code",
      "source": [
        "model.metrics_names"
      ],
      "metadata": {
        "colab": {
          "base_uri": "https://localhost:8080/"
        },
        "id": "1Hz2iYB_wJFr",
        "outputId": "670c47c9-3f21-4481-c12c-c28ad2a7e389"
      },
      "execution_count": 194,
      "outputs": [
        {
          "output_type": "execute_result",
          "data": {
            "text/plain": [
              "['loss']"
            ]
          },
          "metadata": {},
          "execution_count": 194
        }
      ]
    },
    {
      "cell_type": "code",
      "source": [
        "training_score = model.evaluate(X_train ,y_train, verbose=0)\n",
        "test_score = model.evaluate(X_test,y_test, verbose=0)"
      ],
      "metadata": {
        "id": "0gzPkTNQcwNf"
      },
      "execution_count": 195,
      "outputs": []
    },
    {
      "cell_type": "code",
      "source": [
        "model.evaluate(X_train, y_train, verbose=0)"
      ],
      "metadata": {
        "colab": {
          "base_uri": "https://localhost:8080/"
        },
        "id": "7NWWlvCYdW2H",
        "outputId": "a861a7fe-8180-496e-faa8-72d67fbdda72"
      },
      "execution_count": 196,
      "outputs": [
        {
          "output_type": "execute_result",
          "data": {
            "text/plain": [
              "920.2476806640625"
            ]
          },
          "metadata": {},
          "execution_count": 196
        }
      ]
    },
    {
      "cell_type": "code",
      "source": [
        "test_predictions =model.predict(X_test)"
      ],
      "metadata": {
        "colab": {
          "base_uri": "https://localhost:8080/"
        },
        "id": "pQNPEkG6np1u",
        "outputId": "3dffbb66-71a8-4a8d-d9bc-e5e128ee203a"
      },
      "execution_count": 197,
      "outputs": [
        {
          "output_type": "stream",
          "name": "stdout",
          "text": [
            "10/10 [==============================] - 0s 2ms/step\n"
          ]
        }
      ]
    },
    {
      "cell_type": "code",
      "source": [
        "test_predictions"
      ],
      "metadata": {
        "colab": {
          "base_uri": "https://localhost:8080/"
        },
        "id": "8aQq_-NvoFwI",
        "outputId": "33fa42c5-b626-46a2-98f4-055ae7dc0d03"
      },
      "execution_count": 198,
      "outputs": [
        {
          "output_type": "execute_result",
          "data": {
            "text/plain": [
              "array([[437.3704 ],\n",
              "       [587.4648 ],\n",
              "       [567.907  ],\n",
              "       [547.514  ],\n",
              "       [401.85583],\n",
              "       [555.62714],\n",
              "       [504.18643],\n",
              "       [477.88202],\n",
              "       [531.86957],\n",
              "       [470.61957],\n",
              "       [579.6011 ],\n",
              "       [545.00037],\n",
              "       [446.19162],\n",
              "       [437.74936],\n",
              "       [615.8077 ],\n",
              "       [461.89413],\n",
              "       [515.695  ],\n",
              "       [604.8701 ],\n",
              "       [611.046  ],\n",
              "       [551.1254 ],\n",
              "       [383.91885],\n",
              "       [464.014  ],\n",
              "       [418.33792],\n",
              "       [419.51996],\n",
              "       [547.6765 ],\n",
              "       [573.8891 ],\n",
              "       [523.4556 ],\n",
              "       [453.7325 ],\n",
              "       [604.1274 ],\n",
              "       [446.9099 ],\n",
              "       [466.48843],\n",
              "       [492.31015],\n",
              "       [460.8178 ],\n",
              "       [623.5176 ],\n",
              "       [456.57855],\n",
              "       [442.12497],\n",
              "       [513.35596],\n",
              "       [537.9511 ],\n",
              "       [502.3258 ],\n",
              "       [422.06912],\n",
              "       [586.0219 ],\n",
              "       [447.76978],\n",
              "       [575.96686],\n",
              "       [471.65326],\n",
              "       [503.7045 ],\n",
              "       [568.4044 ],\n",
              "       [625.8929 ],\n",
              "       [499.37637],\n",
              "       [381.78177],\n",
              "       [491.63156],\n",
              "       [515.8065 ],\n",
              "       [425.39474],\n",
              "       [537.95654],\n",
              "       [439.94873],\n",
              "       [602.1521 ],\n",
              "       [494.75925],\n",
              "       [583.5387 ],\n",
              "       [597.373  ],\n",
              "       [466.65524],\n",
              "       [487.67606],\n",
              "       [493.121  ],\n",
              "       [487.36716],\n",
              "       [629.7451 ],\n",
              "       [433.02377],\n",
              "       [641.3922 ],\n",
              "       [559.4841 ],\n",
              "       [560.5976 ],\n",
              "       [532.1819 ],\n",
              "       [491.466  ],\n",
              "       [509.68344],\n",
              "       [408.0937 ],\n",
              "       [530.47284],\n",
              "       [548.8877 ],\n",
              "       [530.8523 ],\n",
              "       [472.23343],\n",
              "       [526.35175],\n",
              "       [512.6853 ],\n",
              "       [458.72858],\n",
              "       [530.6575 ],\n",
              "       [605.1454 ],\n",
              "       [470.8436 ],\n",
              "       [550.9073 ],\n",
              "       [639.6526 ],\n",
              "       [471.30157],\n",
              "       [641.165  ],\n",
              "       [482.92648],\n",
              "       [442.361  ],\n",
              "       [560.28876],\n",
              "       [465.85782],\n",
              "       [498.16672],\n",
              "       [584.6783 ],\n",
              "       [465.03156],\n",
              "       [467.0124 ],\n",
              "       [456.38647],\n",
              "       [501.99298],\n",
              "       [574.85956],\n",
              "       [379.1798 ],\n",
              "       [460.8224 ],\n",
              "       [529.5872 ],\n",
              "       [511.36224],\n",
              "       [569.1184 ],\n",
              "       [518.35706],\n",
              "       [393.23483],\n",
              "       [561.0699 ],\n",
              "       [446.3137 ],\n",
              "       [554.6629 ],\n",
              "       [512.6772 ],\n",
              "       [424.81308],\n",
              "       [539.6847 ],\n",
              "       [479.43994],\n",
              "       [464.35916],\n",
              "       [600.1593 ],\n",
              "       [523.9551 ],\n",
              "       [541.55475],\n",
              "       [445.48074],\n",
              "       [486.25314],\n",
              "       [562.06824],\n",
              "       [613.77966],\n",
              "       [636.81696],\n",
              "       [603.4333 ],\n",
              "       [544.05237],\n",
              "       [508.71136],\n",
              "       [421.3346 ],\n",
              "       [349.57352],\n",
              "       [490.5198 ],\n",
              "       [588.32227],\n",
              "       [421.39484],\n",
              "       [511.29764],\n",
              "       [503.35156],\n",
              "       [494.6395 ],\n",
              "       [489.44373],\n",
              "       [444.09464],\n",
              "       [496.15448],\n",
              "       [483.6646 ],\n",
              "       [577.95135],\n",
              "       [561.6015 ],\n",
              "       [436.3711 ],\n",
              "       [593.7339 ],\n",
              "       [482.409  ],\n",
              "       [550.3666 ],\n",
              "       [437.0418 ],\n",
              "       [523.8086 ],\n",
              "       [551.69324],\n",
              "       [401.11508],\n",
              "       [534.3561 ],\n",
              "       [573.1298 ],\n",
              "       [420.99713],\n",
              "       [527.4462 ],\n",
              "       [545.9608 ],\n",
              "       [474.49567],\n",
              "       [594.05237],\n",
              "       [408.09137],\n",
              "       [480.67294],\n",
              "       [516.73926],\n",
              "       [417.2855 ],\n",
              "       [471.36285],\n",
              "       [454.1672 ],\n",
              "       [500.65195],\n",
              "       [401.94946],\n",
              "       [433.97406],\n",
              "       [576.7531 ],\n",
              "       [509.06616],\n",
              "       [479.65405],\n",
              "       [499.4085 ],\n",
              "       [533.2458 ],\n",
              "       [393.81107],\n",
              "       [521.61414],\n",
              "       [333.58594],\n",
              "       [505.5272 ],\n",
              "       [523.3159 ],\n",
              "       [493.8767 ],\n",
              "       [491.5071 ],\n",
              "       [429.40033],\n",
              "       [452.64194],\n",
              "       [534.3948 ],\n",
              "       [480.79974],\n",
              "       [552.95715],\n",
              "       [489.81372],\n",
              "       [564.39246],\n",
              "       [538.6354 ],\n",
              "       [534.1456 ],\n",
              "       [503.53824],\n",
              "       [600.86304],\n",
              "       [542.5422 ],\n",
              "       [564.53217],\n",
              "       [470.96472],\n",
              "       [449.5773 ],\n",
              "       [442.08896],\n",
              "       [554.3672 ],\n",
              "       [574.8363 ],\n",
              "       [463.58295],\n",
              "       [496.27463],\n",
              "       [557.254  ],\n",
              "       [515.87164],\n",
              "       [402.6133 ],\n",
              "       [599.55194],\n",
              "       [518.1118 ],\n",
              "       [390.5933 ],\n",
              "       [496.80304],\n",
              "       [446.10696],\n",
              "       [577.2208 ],\n",
              "       [402.41205],\n",
              "       [523.09314],\n",
              "       [439.67026],\n",
              "       [327.33185],\n",
              "       [519.5373 ],\n",
              "       [401.83902],\n",
              "       [401.38477],\n",
              "       [560.98846],\n",
              "       [450.79718],\n",
              "       [534.5306 ],\n",
              "       [514.27203],\n",
              "       [497.72632],\n",
              "       [383.90353],\n",
              "       [429.42322],\n",
              "       [568.26135],\n",
              "       [579.71686],\n",
              "       [563.8958 ],\n",
              "       [554.52136],\n",
              "       [479.38638],\n",
              "       [475.9941 ],\n",
              "       [507.1392 ],\n",
              "       [469.24084],\n",
              "       [516.6471 ],\n",
              "       [496.4344 ],\n",
              "       [436.6813 ],\n",
              "       [574.5377 ],\n",
              "       [334.7809 ],\n",
              "       [593.03094],\n",
              "       [573.80505],\n",
              "       [387.93463],\n",
              "       [483.57626],\n",
              "       [569.7275 ],\n",
              "       [420.22977],\n",
              "       [474.3609 ],\n",
              "       [387.14005],\n",
              "       [520.3144 ],\n",
              "       [447.1002 ],\n",
              "       [543.5234 ],\n",
              "       [602.43774],\n",
              "       [526.6099 ],\n",
              "       [507.79462],\n",
              "       [600.1646 ],\n",
              "       [515.88257],\n",
              "       [524.2037 ],\n",
              "       [510.98044],\n",
              "       [474.8007 ],\n",
              "       [511.52496],\n",
              "       [477.9047 ],\n",
              "       [573.29846],\n",
              "       [477.04373],\n",
              "       [448.2635 ],\n",
              "       [526.1928 ],\n",
              "       [496.8921 ],\n",
              "       [614.2581 ],\n",
              "       [414.358  ],\n",
              "       [538.36115],\n",
              "       [556.64557],\n",
              "       [452.65787],\n",
              "       [529.3853 ],\n",
              "       [567.951  ],\n",
              "       [562.48553],\n",
              "       [653.44727],\n",
              "       [448.85745],\n",
              "       [435.69705],\n",
              "       [377.49304],\n",
              "       [464.01666],\n",
              "       [433.10492],\n",
              "       [528.5279 ],\n",
              "       [516.56744],\n",
              "       [554.9429 ],\n",
              "       [467.16272],\n",
              "       [528.452  ],\n",
              "       [422.69287],\n",
              "       [504.7814 ],\n",
              "       [592.7925 ],\n",
              "       [507.2758 ],\n",
              "       [546.30444],\n",
              "       [478.6144 ],\n",
              "       [355.77066],\n",
              "       [510.7858 ],\n",
              "       [584.225  ],\n",
              "       [399.5099 ],\n",
              "       [461.87482],\n",
              "       [498.56293],\n",
              "       [531.5868 ],\n",
              "       [583.018  ],\n",
              "       [418.3204 ],\n",
              "       [460.28363],\n",
              "       [492.4873 ],\n",
              "       [567.7829 ],\n",
              "       [495.46054],\n",
              "       [379.91357],\n",
              "       [539.9597 ],\n",
              "       [464.97495],\n",
              "       [518.4996 ],\n",
              "       [498.48883],\n",
              "       [578.92487],\n",
              "       [449.58463],\n",
              "       [437.79684]], dtype=float32)"
            ]
          },
          "metadata": {},
          "execution_count": 198
        }
      ]
    },
    {
      "cell_type": "code",
      "source": [
        "pred_df = pd.DataFrame(y_test,columns=['Test Y'])"
      ],
      "metadata": {
        "id": "4eOKtwQctfR_"
      },
      "execution_count": 199,
      "outputs": []
    },
    {
      "cell_type": "code",
      "source": [
        "pred_df"
      ],
      "metadata": {
        "colab": {
          "base_uri": "https://localhost:8080/",
          "height": 424
        },
        "id": "ts6yVuKMtpGf",
        "outputId": "376b8011-4832-4b72-aa09-cba45acaa6a1"
      },
      "execution_count": 200,
      "outputs": [
        {
          "output_type": "execute_result",
          "data": {
            "text/plain": [
              "         Test Y\n",
              "0    402.296319\n",
              "1    624.156198\n",
              "2    582.455066\n",
              "3    578.588606\n",
              "4    371.224104\n",
              "..          ...\n",
              "295  525.704657\n",
              "296  502.909473\n",
              "297  612.727910\n",
              "298  417.569725\n",
              "299  410.538250\n",
              "\n",
              "[300 rows x 1 columns]"
            ],
            "text/html": [
              "\n",
              "  <div id=\"df-edd1c99e-2770-4d02-b30c-83e86c3c2078\">\n",
              "    <div class=\"colab-df-container\">\n",
              "      <div>\n",
              "<style scoped>\n",
              "    .dataframe tbody tr th:only-of-type {\n",
              "        vertical-align: middle;\n",
              "    }\n",
              "\n",
              "    .dataframe tbody tr th {\n",
              "        vertical-align: top;\n",
              "    }\n",
              "\n",
              "    .dataframe thead th {\n",
              "        text-align: right;\n",
              "    }\n",
              "</style>\n",
              "<table border=\"1\" class=\"dataframe\">\n",
              "  <thead>\n",
              "    <tr style=\"text-align: right;\">\n",
              "      <th></th>\n",
              "      <th>Test Y</th>\n",
              "    </tr>\n",
              "  </thead>\n",
              "  <tbody>\n",
              "    <tr>\n",
              "      <th>0</th>\n",
              "      <td>402.296319</td>\n",
              "    </tr>\n",
              "    <tr>\n",
              "      <th>1</th>\n",
              "      <td>624.156198</td>\n",
              "    </tr>\n",
              "    <tr>\n",
              "      <th>2</th>\n",
              "      <td>582.455066</td>\n",
              "    </tr>\n",
              "    <tr>\n",
              "      <th>3</th>\n",
              "      <td>578.588606</td>\n",
              "    </tr>\n",
              "    <tr>\n",
              "      <th>4</th>\n",
              "      <td>371.224104</td>\n",
              "    </tr>\n",
              "    <tr>\n",
              "      <th>...</th>\n",
              "      <td>...</td>\n",
              "    </tr>\n",
              "    <tr>\n",
              "      <th>295</th>\n",
              "      <td>525.704657</td>\n",
              "    </tr>\n",
              "    <tr>\n",
              "      <th>296</th>\n",
              "      <td>502.909473</td>\n",
              "    </tr>\n",
              "    <tr>\n",
              "      <th>297</th>\n",
              "      <td>612.727910</td>\n",
              "    </tr>\n",
              "    <tr>\n",
              "      <th>298</th>\n",
              "      <td>417.569725</td>\n",
              "    </tr>\n",
              "    <tr>\n",
              "      <th>299</th>\n",
              "      <td>410.538250</td>\n",
              "    </tr>\n",
              "  </tbody>\n",
              "</table>\n",
              "<p>300 rows × 1 columns</p>\n",
              "</div>\n",
              "      <button class=\"colab-df-convert\" onclick=\"convertToInteractive('df-edd1c99e-2770-4d02-b30c-83e86c3c2078')\"\n",
              "              title=\"Convert this dataframe to an interactive table.\"\n",
              "              style=\"display:none;\">\n",
              "        \n",
              "  <svg xmlns=\"http://www.w3.org/2000/svg\" height=\"24px\"viewBox=\"0 0 24 24\"\n",
              "       width=\"24px\">\n",
              "    <path d=\"M0 0h24v24H0V0z\" fill=\"none\"/>\n",
              "    <path d=\"M18.56 5.44l.94 2.06.94-2.06 2.06-.94-2.06-.94-.94-2.06-.94 2.06-2.06.94zm-11 1L8.5 8.5l.94-2.06 2.06-.94-2.06-.94L8.5 2.5l-.94 2.06-2.06.94zm10 10l.94 2.06.94-2.06 2.06-.94-2.06-.94-.94-2.06-.94 2.06-2.06.94z\"/><path d=\"M17.41 7.96l-1.37-1.37c-.4-.4-.92-.59-1.43-.59-.52 0-1.04.2-1.43.59L10.3 9.45l-7.72 7.72c-.78.78-.78 2.05 0 2.83L4 21.41c.39.39.9.59 1.41.59.51 0 1.02-.2 1.41-.59l7.78-7.78 2.81-2.81c.8-.78.8-2.07 0-2.86zM5.41 20L4 18.59l7.72-7.72 1.47 1.35L5.41 20z\"/>\n",
              "  </svg>\n",
              "      </button>\n",
              "      \n",
              "  <style>\n",
              "    .colab-df-container {\n",
              "      display:flex;\n",
              "      flex-wrap:wrap;\n",
              "      gap: 12px;\n",
              "    }\n",
              "\n",
              "    .colab-df-convert {\n",
              "      background-color: #E8F0FE;\n",
              "      border: none;\n",
              "      border-radius: 50%;\n",
              "      cursor: pointer;\n",
              "      display: none;\n",
              "      fill: #1967D2;\n",
              "      height: 32px;\n",
              "      padding: 0 0 0 0;\n",
              "      width: 32px;\n",
              "    }\n",
              "\n",
              "    .colab-df-convert:hover {\n",
              "      background-color: #E2EBFA;\n",
              "      box-shadow: 0px 1px 2px rgba(60, 64, 67, 0.3), 0px 1px 3px 1px rgba(60, 64, 67, 0.15);\n",
              "      fill: #174EA6;\n",
              "    }\n",
              "\n",
              "    [theme=dark] .colab-df-convert {\n",
              "      background-color: #3B4455;\n",
              "      fill: #D2E3FC;\n",
              "    }\n",
              "\n",
              "    [theme=dark] .colab-df-convert:hover {\n",
              "      background-color: #434B5C;\n",
              "      box-shadow: 0px 1px 3px 1px rgba(0, 0, 0, 0.15);\n",
              "      filter: drop-shadow(0px 1px 2px rgba(0, 0, 0, 0.3));\n",
              "      fill: #FFFFFF;\n",
              "    }\n",
              "  </style>\n",
              "\n",
              "      <script>\n",
              "        const buttonEl =\n",
              "          document.querySelector('#df-edd1c99e-2770-4d02-b30c-83e86c3c2078 button.colab-df-convert');\n",
              "        buttonEl.style.display =\n",
              "          google.colab.kernel.accessAllowed ? 'block' : 'none';\n",
              "\n",
              "        async function convertToInteractive(key) {\n",
              "          const element = document.querySelector('#df-edd1c99e-2770-4d02-b30c-83e86c3c2078');\n",
              "          const dataTable =\n",
              "            await google.colab.kernel.invokeFunction('convertToInteractive',\n",
              "                                                     [key], {});\n",
              "          if (!dataTable) return;\n",
              "\n",
              "          const docLinkHtml = 'Like what you see? Visit the ' +\n",
              "            '<a target=\"_blank\" href=https://colab.research.google.com/notebooks/data_table.ipynb>data table notebook</a>'\n",
              "            + ' to learn more about interactive tables.';\n",
              "          element.innerHTML = '';\n",
              "          dataTable['output_type'] = 'display_data';\n",
              "          await google.colab.output.renderOutput(dataTable, element);\n",
              "          const docLink = document.createElement('div');\n",
              "          docLink.innerHTML = docLinkHtml;\n",
              "          element.appendChild(docLink);\n",
              "        }\n",
              "      </script>\n",
              "    </div>\n",
              "  </div>\n",
              "  "
            ]
          },
          "metadata": {},
          "execution_count": 200
        }
      ]
    },
    {
      "cell_type": "code",
      "source": [
        "test_predictions = pd.Series(test_predictions.reshape(300,))"
      ],
      "metadata": {
        "id": "7odKLhYjtvbg"
      },
      "execution_count": 201,
      "outputs": []
    },
    {
      "cell_type": "code",
      "source": [
        "test_predictions"
      ],
      "metadata": {
        "colab": {
          "base_uri": "https://localhost:8080/"
        },
        "id": "KqU-VrM7t0cP",
        "outputId": "ab86b441-e4ae-4619-952f-e868f9bf82e7"
      },
      "execution_count": 202,
      "outputs": [
        {
          "output_type": "execute_result",
          "data": {
            "text/plain": [
              "0      437.370392\n",
              "1      587.464783\n",
              "2      567.906982\n",
              "3      547.513977\n",
              "4      401.855835\n",
              "          ...    \n",
              "295    518.499573\n",
              "296    498.488831\n",
              "297    578.924866\n",
              "298    449.584625\n",
              "299    437.796844\n",
              "Length: 300, dtype: float32"
            ]
          },
          "metadata": {},
          "execution_count": 202
        }
      ]
    },
    {
      "cell_type": "code",
      "source": [
        "pred_df = pd.concat([pred_df,test_predictions],axis=1)"
      ],
      "metadata": {
        "id": "weIFkrZMuSoE"
      },
      "execution_count": 203,
      "outputs": []
    },
    {
      "cell_type": "code",
      "source": [
        "pred_df.columns = ['Test Y','Model Predictions']"
      ],
      "metadata": {
        "id": "AejyM1WAuqSx"
      },
      "execution_count": 204,
      "outputs": []
    },
    {
      "cell_type": "code",
      "source": [
        "pred_df"
      ],
      "metadata": {
        "colab": {
          "base_uri": "https://localhost:8080/",
          "height": 424
        },
        "id": "zCD7EZqAut0i",
        "outputId": "813eae58-e761-4aef-aacc-13b439c8fd90"
      },
      "execution_count": 205,
      "outputs": [
        {
          "output_type": "execute_result",
          "data": {
            "text/plain": [
              "         Test Y  Model Predictions\n",
              "0    402.296319         437.370392\n",
              "1    624.156198         587.464783\n",
              "2    582.455066         567.906982\n",
              "3    578.588606         547.513977\n",
              "4    371.224104         401.855835\n",
              "..          ...                ...\n",
              "295  525.704657         518.499573\n",
              "296  502.909473         498.488831\n",
              "297  612.727910         578.924866\n",
              "298  417.569725         449.584625\n",
              "299  410.538250         437.796844\n",
              "\n",
              "[300 rows x 2 columns]"
            ],
            "text/html": [
              "\n",
              "  <div id=\"df-ee43eab7-9dd7-4024-9421-ad3d7053be63\">\n",
              "    <div class=\"colab-df-container\">\n",
              "      <div>\n",
              "<style scoped>\n",
              "    .dataframe tbody tr th:only-of-type {\n",
              "        vertical-align: middle;\n",
              "    }\n",
              "\n",
              "    .dataframe tbody tr th {\n",
              "        vertical-align: top;\n",
              "    }\n",
              "\n",
              "    .dataframe thead th {\n",
              "        text-align: right;\n",
              "    }\n",
              "</style>\n",
              "<table border=\"1\" class=\"dataframe\">\n",
              "  <thead>\n",
              "    <tr style=\"text-align: right;\">\n",
              "      <th></th>\n",
              "      <th>Test Y</th>\n",
              "      <th>Model Predictions</th>\n",
              "    </tr>\n",
              "  </thead>\n",
              "  <tbody>\n",
              "    <tr>\n",
              "      <th>0</th>\n",
              "      <td>402.296319</td>\n",
              "      <td>437.370392</td>\n",
              "    </tr>\n",
              "    <tr>\n",
              "      <th>1</th>\n",
              "      <td>624.156198</td>\n",
              "      <td>587.464783</td>\n",
              "    </tr>\n",
              "    <tr>\n",
              "      <th>2</th>\n",
              "      <td>582.455066</td>\n",
              "      <td>567.906982</td>\n",
              "    </tr>\n",
              "    <tr>\n",
              "      <th>3</th>\n",
              "      <td>578.588606</td>\n",
              "      <td>547.513977</td>\n",
              "    </tr>\n",
              "    <tr>\n",
              "      <th>4</th>\n",
              "      <td>371.224104</td>\n",
              "      <td>401.855835</td>\n",
              "    </tr>\n",
              "    <tr>\n",
              "      <th>...</th>\n",
              "      <td>...</td>\n",
              "      <td>...</td>\n",
              "    </tr>\n",
              "    <tr>\n",
              "      <th>295</th>\n",
              "      <td>525.704657</td>\n",
              "      <td>518.499573</td>\n",
              "    </tr>\n",
              "    <tr>\n",
              "      <th>296</th>\n",
              "      <td>502.909473</td>\n",
              "      <td>498.488831</td>\n",
              "    </tr>\n",
              "    <tr>\n",
              "      <th>297</th>\n",
              "      <td>612.727910</td>\n",
              "      <td>578.924866</td>\n",
              "    </tr>\n",
              "    <tr>\n",
              "      <th>298</th>\n",
              "      <td>417.569725</td>\n",
              "      <td>449.584625</td>\n",
              "    </tr>\n",
              "    <tr>\n",
              "      <th>299</th>\n",
              "      <td>410.538250</td>\n",
              "      <td>437.796844</td>\n",
              "    </tr>\n",
              "  </tbody>\n",
              "</table>\n",
              "<p>300 rows × 2 columns</p>\n",
              "</div>\n",
              "      <button class=\"colab-df-convert\" onclick=\"convertToInteractive('df-ee43eab7-9dd7-4024-9421-ad3d7053be63')\"\n",
              "              title=\"Convert this dataframe to an interactive table.\"\n",
              "              style=\"display:none;\">\n",
              "        \n",
              "  <svg xmlns=\"http://www.w3.org/2000/svg\" height=\"24px\"viewBox=\"0 0 24 24\"\n",
              "       width=\"24px\">\n",
              "    <path d=\"M0 0h24v24H0V0z\" fill=\"none\"/>\n",
              "    <path d=\"M18.56 5.44l.94 2.06.94-2.06 2.06-.94-2.06-.94-.94-2.06-.94 2.06-2.06.94zm-11 1L8.5 8.5l.94-2.06 2.06-.94-2.06-.94L8.5 2.5l-.94 2.06-2.06.94zm10 10l.94 2.06.94-2.06 2.06-.94-2.06-.94-.94-2.06-.94 2.06-2.06.94z\"/><path d=\"M17.41 7.96l-1.37-1.37c-.4-.4-.92-.59-1.43-.59-.52 0-1.04.2-1.43.59L10.3 9.45l-7.72 7.72c-.78.78-.78 2.05 0 2.83L4 21.41c.39.39.9.59 1.41.59.51 0 1.02-.2 1.41-.59l7.78-7.78 2.81-2.81c.8-.78.8-2.07 0-2.86zM5.41 20L4 18.59l7.72-7.72 1.47 1.35L5.41 20z\"/>\n",
              "  </svg>\n",
              "      </button>\n",
              "      \n",
              "  <style>\n",
              "    .colab-df-container {\n",
              "      display:flex;\n",
              "      flex-wrap:wrap;\n",
              "      gap: 12px;\n",
              "    }\n",
              "\n",
              "    .colab-df-convert {\n",
              "      background-color: #E8F0FE;\n",
              "      border: none;\n",
              "      border-radius: 50%;\n",
              "      cursor: pointer;\n",
              "      display: none;\n",
              "      fill: #1967D2;\n",
              "      height: 32px;\n",
              "      padding: 0 0 0 0;\n",
              "      width: 32px;\n",
              "    }\n",
              "\n",
              "    .colab-df-convert:hover {\n",
              "      background-color: #E2EBFA;\n",
              "      box-shadow: 0px 1px 2px rgba(60, 64, 67, 0.3), 0px 1px 3px 1px rgba(60, 64, 67, 0.15);\n",
              "      fill: #174EA6;\n",
              "    }\n",
              "\n",
              "    [theme=dark] .colab-df-convert {\n",
              "      background-color: #3B4455;\n",
              "      fill: #D2E3FC;\n",
              "    }\n",
              "\n",
              "    [theme=dark] .colab-df-convert:hover {\n",
              "      background-color: #434B5C;\n",
              "      box-shadow: 0px 1px 3px 1px rgba(0, 0, 0, 0.15);\n",
              "      filter: drop-shadow(0px 1px 2px rgba(0, 0, 0, 0.3));\n",
              "      fill: #FFFFFF;\n",
              "    }\n",
              "  </style>\n",
              "\n",
              "      <script>\n",
              "        const buttonEl =\n",
              "          document.querySelector('#df-ee43eab7-9dd7-4024-9421-ad3d7053be63 button.colab-df-convert');\n",
              "        buttonEl.style.display =\n",
              "          google.colab.kernel.accessAllowed ? 'block' : 'none';\n",
              "\n",
              "        async function convertToInteractive(key) {\n",
              "          const element = document.querySelector('#df-ee43eab7-9dd7-4024-9421-ad3d7053be63');\n",
              "          const dataTable =\n",
              "            await google.colab.kernel.invokeFunction('convertToInteractive',\n",
              "                                                     [key], {});\n",
              "          if (!dataTable) return;\n",
              "\n",
              "          const docLinkHtml = 'Like what you see? Visit the ' +\n",
              "            '<a target=\"_blank\" href=https://colab.research.google.com/notebooks/data_table.ipynb>data table notebook</a>'\n",
              "            + ' to learn more about interactive tables.';\n",
              "          element.innerHTML = '';\n",
              "          dataTable['output_type'] = 'display_data';\n",
              "          await google.colab.output.renderOutput(dataTable, element);\n",
              "          const docLink = document.createElement('div');\n",
              "          docLink.innerHTML = docLinkHtml;\n",
              "          element.appendChild(docLink);\n",
              "        }\n",
              "      </script>\n",
              "    </div>\n",
              "  </div>\n",
              "  "
            ]
          },
          "metadata": {},
          "execution_count": 205
        }
      ]
    },
    {
      "cell_type": "code",
      "source": [
        "sns.scatterplot(x='Test Y',y='Model Predictions',data=pred_df)"
      ],
      "metadata": {
        "colab": {
          "base_uri": "https://localhost:8080/",
          "height": 466
        },
        "id": "ARs52eIVuxYf",
        "outputId": "69357a36-01df-4448-ed20-84b5fa6f02df"
      },
      "execution_count": 206,
      "outputs": [
        {
          "output_type": "execute_result",
          "data": {
            "text/plain": [
              "<Axes: xlabel='Test Y', ylabel='Model Predictions'>"
            ]
          },
          "metadata": {},
          "execution_count": 206
        },
        {
          "output_type": "display_data",
          "data": {
            "text/plain": [
              "<Figure size 640x480 with 1 Axes>"
            ],
            "image/png": "[encoded data removed]"
          },
          "metadata": {}
        }
      ]
    },
    {
      "cell_type": "code",
      "source": [
        "pred_df['Error'] = pred_df['Test Y'] - pred_df['Model Predictions']"
      ],
      "metadata": {
        "id": "uC_2aNRiu003"
      },
      "execution_count": 207,
      "outputs": []
    },
    {
      "cell_type": "code",
      "source": [
        "sns.distplot(pred_df['Error'],bins=50)"
      ],
      "metadata": {
        "colab": {
          "base_uri": "https://localhost:8080/",
          "height": 657
        },
        "id": "XFodIvwIu4aJ",
        "outputId": "7b7a41aa-0c16-46a1-8c4e-9fb47fb1b579"
      },
      "execution_count": 208,
      "outputs": [
        {
          "output_type": "stream",
          "name": "stderr",
          "text": [
            "<ipython-input-208-12727d456eec>:1: UserWarning: \n",
            "\n",
            "`distplot` is a deprecated function and will be removed in seaborn v0.14.0.\n",
            "\n",
            "Please adapt your code to use either `displot` (a figure-level function with\n",
            "similar flexibility) or `histplot` (an axes-level function for histograms).\n",
            "\n",
            "For a guide to updating your code to use the new functions, please see\n",
            "https://gist.github.com/mwaskom/de44147ed2974457ad6372750bbe5751\n",
            "\n",
            "  sns.distplot(pred_df['Error'],bins=50)\n"
          ]
        },
        {
          "output_type": "execute_result",
          "data": {
            "text/plain": [
              "<Axes: xlabel='Error', ylabel='Density'>"
            ]
          },
          "metadata": {},
          "execution_count": 208
        },
        {
          "output_type": "display_data",
          "data": {
            "text/plain": [
              "<Figure size 640x480 with 1 Axes>"
            ],
            "image/png": "[encoded data removed]"
          },
          "metadata": {}
        }
      ]
    },
    {
      "cell_type": "code",
      "source": [
        "from sklearn.metrics import mean_absolute_error,mean_squared_error"
      ],
      "metadata": {
        "id": "Id_UjSbqu7lB"
      },
      "execution_count": 209,
      "outputs": []
    },
    {
      "cell_type": "code",
      "source": [
        "mean_absolute_error(pred_df['Test Y'],pred_df['Model Predictions'])"
      ],
      "metadata": {
        "colab": {
          "base_uri": "https://localhost:8080/"
        },
        "id": "ZuVtk9qxvAiH",
        "outputId": "08c58a71-29f4-46c9-eeb3-c09b08c7dd50"
      },
      "execution_count": 210,
      "outputs": [
        {
          "output_type": "execute_result",
          "data": {
            "text/plain": [
              "23.933431229519318"
            ]
          },
          "metadata": {},
          "execution_count": 210
        }
      ]
    },
    {
      "cell_type": "code",
      "source": [
        "mean_squared_error(pred_df['Test Y'],pred_df['Model Predictions'])"
      ],
      "metadata": {
        "colab": {
          "base_uri": "https://localhost:8080/"
        },
        "id": "kdMgqwRJvDbi",
        "outputId": "71e98df3-b27f-486e-b0ec-3e704ebc9132"
      },
      "execution_count": 211,
      "outputs": [
        {
          "output_type": "execute_result",
          "data": {
            "text/plain": [
              "902.8877557262167"
            ]
          },
          "metadata": {},
          "execution_count": 211
        }
      ]
    },
    {
      "cell_type": "code",
      "source": [
        "# Essentially the same thing, difference just due to precision\n",
        "test_score"
      ],
      "metadata": {
        "colab": {
          "base_uri": "https://localhost:8080/"
        },
        "id": "RQCUU9IKvGvA",
        "outputId": "2a565429-e521-42c4-c454-e33fbf733baf"
      },
      "execution_count": 212,
      "outputs": [
        {
          "output_type": "execute_result",
          "data": {
            "text/plain": [
              "902.8876953125"
            ]
          },
          "metadata": {},
          "execution_count": 212
        }
      ]
    },
    {
      "cell_type": "code",
      "source": [
        "#RMSE\n",
        "test_score**0.5"
      ],
      "metadata": {
        "colab": {
          "base_uri": "https://localhost:8080/"
        },
        "id": "JhOJ5ktLvKEo",
        "outputId": "c04639df-8cf0-4144-d7cc-5be91165fe06"
      },
      "execution_count": 213,
      "outputs": [
        {
          "output_type": "execute_result",
          "data": {
            "text/plain": [
              "30.04808971153574"
            ]
          },
          "metadata": {},
          "execution_count": 213
        }
      ]
    },
    {
      "cell_type": "markdown",
      "source": [
        "# **`Predicting on brand new data`**"
      ],
      "metadata": {
        "id": "7325E5SevP5G"
      }
    },
    {
      "cell_type": "code",
      "source": [
        "# [[Feature1, Feature2]]\n",
        "new_gem = [[998,1000]]"
      ],
      "metadata": {
        "id": "1CiW_fs2vMz3"
      },
      "execution_count": 214,
      "outputs": []
    },
    {
      "cell_type": "code",
      "source": [
        "# Don't forget to scale!\n",
        "scaler.transform(new_gem)"
      ],
      "metadata": {
        "colab": {
          "base_uri": "https://localhost:8080/"
        },
        "id": "3p5FYmL4vqOH",
        "outputId": "af10b7e8-efc9-4220-999f-f8b4090a5ab0"
      },
      "execution_count": 215,
      "outputs": [
        {
          "output_type": "execute_result",
          "data": {
            "text/plain": [
              "array([[0.14117652, 0.53968792]])"
            ]
          },
          "metadata": {},
          "execution_count": 215
        }
      ]
    },
    {
      "cell_type": "code",
      "source": [
        "new_gem = scaler.transform(new_gem)"
      ],
      "metadata": {
        "id": "0WEyoadNvtVX"
      },
      "execution_count": 216,
      "outputs": []
    },
    {
      "cell_type": "code",
      "source": [
        "model.predict(new_gem)"
      ],
      "metadata": {
        "colab": {
          "base_uri": "https://localhost:8080/"
        },
        "id": "IailOtRivvuf",
        "outputId": "14c3a1dc-aa52-42c1-9153-c9ff89a61884"
      },
      "execution_count": 217,
      "outputs": [
        {
          "output_type": "stream",
          "name": "stdout",
          "text": [
            "1/1 [==============================] - 0s 22ms/step\n"
          ]
        },
        {
          "output_type": "execute_result",
          "data": {
            "text/plain": [
              "array([[438.983]], dtype=float32)"
            ]
          },
          "metadata": {},
          "execution_count": 217
        }
      ]
    },
    {
      "cell_type": "markdown",
      "source": [
        "**Saving and Loading a** ***Model***"
      ],
      "metadata": {
        "id": "J7ayNTo4v2X1"
      }
    },
    {
      "cell_type": "code",
      "source": [
        "from tensorflow.keras.models import load_model"
      ],
      "metadata": {
        "id": "_SHwrbX-vyVp"
      },
      "execution_count": 218,
      "outputs": []
    },
    {
      "cell_type": "code",
      "source": [
        "model.save('my_model.h5')  # creates a HDF5 file 'my_model.h5'"
      ],
      "metadata": {
        "id": "USI6nxOov-t_"
      },
      "execution_count": 219,
      "outputs": []
    },
    {
      "cell_type": "code",
      "source": [
        "later_model = load_model('my_model.h5')"
      ],
      "metadata": {
        "id": "NqxID5TvwDNV"
      },
      "execution_count": 220,
      "outputs": []
    },
    {
      "cell_type": "code",
      "source": [
        "later_model.predict(new_gem)"
      ],
      "metadata": {
        "colab": {
          "base_uri": "https://localhost:8080/"
        },
        "id": "z8n3XwiwwGTo",
        "outputId": "6f3945b6-d86d-4112-901d-696cbe880b8d"
      },
      "execution_count": 221,
      "outputs": [
        {
          "output_type": "stream",
          "name": "stdout",
          "text": [
            "1/1 [==============================] - 0s 154ms/step\n"
          ]
        },
        {
          "output_type": "execute_result",
          "data": {
            "text/plain": [
              "array([[438.983]], dtype=float32)"
            ]
          },
          "metadata": {},
          "execution_count": 221
        }
      ]
    },
    {
      "cell_type": "code",
      "source": [],
      "metadata": {
        "id": "1yNJLQiJwIo7"
      },
      "execution_count": null,
      "outputs": []
    }
  ]
}